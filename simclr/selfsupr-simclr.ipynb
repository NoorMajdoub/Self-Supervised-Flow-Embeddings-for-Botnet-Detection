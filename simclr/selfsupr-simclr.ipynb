{
 "cells": [
  {
   "cell_type": "markdown",
   "metadata": {},
   "source": [
    "## reading the dataset we will work with"
   ]
  },
  {
   "cell_type": "code",
   "execution_count": 1,
   "metadata": {
    "execution": {
     "iopub.execute_input": "2025-08-16T11:47:02.392258Z",
     "iopub.status.busy": "2025-08-16T11:47:02.392059Z",
     "iopub.status.idle": "2025-08-16T11:47:03.664926Z",
     "shell.execute_reply": "2025-08-16T11:47:03.664273Z",
     "shell.execute_reply.started": "2025-08-16T11:47:02.392236Z"
    },
    "trusted": true
   },
   "outputs": [],
   "source": [
    "import pandas as pd\n",
    "import random as rand"
   ]
  },
  {
   "cell_type": "code",
   "execution_count": 2,
   "metadata": {
    "execution": {
     "iopub.execute_input": "2025-08-16T11:47:03.666703Z",
     "iopub.status.busy": "2025-08-16T11:47:03.666300Z",
     "iopub.status.idle": "2025-08-16T11:47:07.254750Z",
     "shell.execute_reply": "2025-08-16T11:47:07.254010Z",
     "shell.execute_reply.started": "2025-08-16T11:47:03.666682Z"
    },
    "trusted": true
   },
   "outputs": [],
   "source": [
    "import numpy as np\n",
    "import torch.nn as nn"
   ]
  },
  {
   "cell_type": "code",
   "execution_count": 3,
   "metadata": {
    "execution": {
     "iopub.execute_input": "2025-08-16T11:47:07.255926Z",
     "iopub.status.busy": "2025-08-16T11:47:07.255623Z",
     "iopub.status.idle": "2025-08-16T11:48:19.279476Z",
     "shell.execute_reply": "2025-08-16T11:48:19.278702Z",
     "shell.execute_reply.started": "2025-08-16T11:47:07.255907Z"
    },
    "trusted": true
   },
   "outputs": [
    {
     "name": "stderr",
     "output_type": "stream",
     "text": [
      "/tmp/ipykernel_36/3032590272.py:1: DtypeWarning: Columns (5) have mixed types. Specify dtype option on import or set low_memory=False.\n",
      "  data=pd.read_csv(\"/kaggle/input/ctu-13/CTU_13.csv\")\n"
     ]
    }
   ],
   "source": [
    "data=pd.read_csv(\"/kaggle/input/ctu-13/CTU_13.csv\")"
   ]
  },
  {
   "cell_type": "code",
   "execution_count": 4,
   "metadata": {
    "execution": {
     "iopub.execute_input": "2025-08-16T11:48:19.281523Z",
     "iopub.status.busy": "2025-08-16T11:48:19.281279Z",
     "iopub.status.idle": "2025-08-16T11:48:27.100047Z",
     "shell.execute_reply": "2025-08-16T11:48:27.099260Z",
     "shell.execute_reply.started": "2025-08-16T11:48:19.281505Z"
    },
    "trusted": true
   },
   "outputs": [],
   "source": [
    "lst = []\n",
    "for i in data['Label']:\n",
    "    if 'Botnet' in i:\n",
    "        lst.append(1)\n",
    "    elif 'Normal' in i:\n",
    "        lst.append(2)\n",
    "    else:\n",
    "        lst.append(0)\n",
    "\n",
    "data['Label']=lst"
   ]
  },
  {
   "cell_type": "markdown",
   "metadata": {},
   "source": [
    "we remove the background data points"
   ]
  },
  {
   "cell_type": "code",
   "execution_count": 5,
   "metadata": {
    "execution": {
     "iopub.execute_input": "2025-08-16T11:48:27.101165Z",
     "iopub.status.busy": "2025-08-16T11:48:27.100890Z",
     "iopub.status.idle": "2025-08-16T11:48:28.350358Z",
     "shell.execute_reply": "2025-08-16T11:48:28.349783Z",
     "shell.execute_reply.started": "2025-08-16T11:48:27.101142Z"
    },
    "trusted": true
   },
   "outputs": [],
   "source": [
    "data=data[data['Label']!=0]"
   ]
  },
  {
   "cell_type": "code",
   "execution_count": 6,
   "metadata": {
    "execution": {
     "iopub.execute_input": "2025-08-16T11:48:28.351572Z",
     "iopub.status.busy": "2025-08-16T11:48:28.351383Z",
     "iopub.status.idle": "2025-08-16T11:48:28.644111Z",
     "shell.execute_reply": "2025-08-16T11:48:28.643525Z",
     "shell.execute_reply.started": "2025-08-16T11:48:28.351556Z"
    },
    "trusted": true
   },
   "outputs": [],
   "source": [
    "direction_number = []\n",
    "for i in data['Dir']:\n",
    "    if i == '  <->':\n",
    "        direction_number.append(1)\n",
    "    elif i == '   ->':\n",
    "        direction_number.append(2)\n",
    "    else:\n",
    "        direction_number.append(0)\n",
    "\n",
    "data['Dir'] = direction_number"
   ]
  },
  {
   "cell_type": "code",
   "execution_count": 7,
   "metadata": {
    "execution": {
     "iopub.execute_input": "2025-08-16T11:48:28.645004Z",
     "iopub.status.busy": "2025-08-16T11:48:28.644797Z",
     "iopub.status.idle": "2025-08-16T11:48:28.650444Z",
     "shell.execute_reply": "2025-08-16T11:48:28.649793Z",
     "shell.execute_reply.started": "2025-08-16T11:48:28.644986Z"
    },
    "trusted": true
   },
   "outputs": [
    {
     "data": {
      "text/plain": [
       "801132"
      ]
     },
     "execution_count": 7,
     "metadata": {},
     "output_type": "execute_result"
    }
   ],
   "source": [
    "len(data)"
   ]
  },
  {
   "cell_type": "code",
   "execution_count": 8,
   "metadata": {
    "execution": {
     "iopub.execute_input": "2025-08-16T11:48:28.651460Z",
     "iopub.status.busy": "2025-08-16T11:48:28.651209Z",
     "iopub.status.idle": "2025-08-16T11:48:28.791282Z",
     "shell.execute_reply": "2025-08-16T11:48:28.790722Z",
     "shell.execute_reply.started": "2025-08-16T11:48:28.651436Z"
    },
    "trusted": true
   },
   "outputs": [],
   "source": [
    "#the unlabeled version we will use for training\n",
    "oldd=data.drop(columns=['Unnamed: 0'],inplace=False)\n",
    "#dataset=data.drop(columns=['Label','Unnamed: 0'],inplace=False)\n",
    "dataset=data.drop(columns=['Unnamed: 0'],inplace=False)"
   ]
  },
  {
   "cell_type": "code",
   "execution_count": 9,
   "metadata": {
    "execution": {
     "iopub.execute_input": "2025-08-16T11:48:28.792156Z",
     "iopub.status.busy": "2025-08-16T11:48:28.791952Z",
     "iopub.status.idle": "2025-08-16T11:48:28.885949Z",
     "shell.execute_reply": "2025-08-16T11:48:28.885273Z",
     "shell.execute_reply.started": "2025-08-16T11:48:28.792140Z"
    },
    "trusted": true
   },
   "outputs": [
    {
     "name": "stderr",
     "output_type": "stream",
     "text": [
      "/usr/local/lib/python3.11/dist-packages/pandas/io/formats/format.py:1458: RuntimeWarning: invalid value encountered in greater\n",
      "  has_large_values = (abs_vals > 1e6).any()\n",
      "/usr/local/lib/python3.11/dist-packages/pandas/io/formats/format.py:1459: RuntimeWarning: invalid value encountered in less\n",
      "  has_small_values = ((abs_vals < 10 ** (-self.digits)) & (abs_vals > 0)).any()\n",
      "/usr/local/lib/python3.11/dist-packages/pandas/io/formats/format.py:1459: RuntimeWarning: invalid value encountered in greater\n",
      "  has_small_values = ((abs_vals < 10 ** (-self.digits)) & (abs_vals > 0)).any()\n"
     ]
    },
    {
     "data": {
      "text/html": [
       "<div>\n",
       "<style scoped>\n",
       "    .dataframe tbody tr th:only-of-type {\n",
       "        vertical-align: middle;\n",
       "    }\n",
       "\n",
       "    .dataframe tbody tr th {\n",
       "        vertical-align: top;\n",
       "    }\n",
       "\n",
       "    .dataframe thead th {\n",
       "        text-align: right;\n",
       "    }\n",
       "</style>\n",
       "<table border=\"1\" class=\"dataframe\">\n",
       "  <thead>\n",
       "    <tr style=\"text-align: right;\">\n",
       "      <th></th>\n",
       "      <th>StartTime</th>\n",
       "      <th>Dur</th>\n",
       "      <th>Proto</th>\n",
       "      <th>SrcAddr</th>\n",
       "      <th>Sport</th>\n",
       "      <th>Dir</th>\n",
       "      <th>DstAddr</th>\n",
       "      <th>Dport</th>\n",
       "      <th>State</th>\n",
       "      <th>sTos</th>\n",
       "      <th>dTos</th>\n",
       "      <th>TotPkts</th>\n",
       "      <th>TotBytes</th>\n",
       "      <th>SrcBytes</th>\n",
       "      <th>Label</th>\n",
       "    </tr>\n",
       "  </thead>\n",
       "  <tbody>\n",
       "    <tr>\n",
       "      <th>150</th>\n",
       "      <td>2011/08/10 09:46:53.160043</td>\n",
       "      <td>0.000000</td>\n",
       "      <td>udp</td>\n",
       "      <td>147.32.80.9</td>\n",
       "      <td>53</td>\n",
       "      <td>2</td>\n",
       "      <td>147.32.86.111</td>\n",
       "      <td>54230</td>\n",
       "      <td>INT</td>\n",
       "      <td>0.0</td>\n",
       "      <td>NaN</td>\n",
       "      <td>1</td>\n",
       "      <td>141</td>\n",
       "      <td>141</td>\n",
       "      <td>2</td>\n",
       "    </tr>\n",
       "    <tr>\n",
       "      <th>408</th>\n",
       "      <td>2011/08/10 09:46:54.045343</td>\n",
       "      <td>0.000000</td>\n",
       "      <td>udp</td>\n",
       "      <td>147.32.80.9</td>\n",
       "      <td>53</td>\n",
       "      <td>2</td>\n",
       "      <td>147.32.86.111</td>\n",
       "      <td>58314</td>\n",
       "      <td>INT</td>\n",
       "      <td>0.0</td>\n",
       "      <td>NaN</td>\n",
       "      <td>1</td>\n",
       "      <td>247</td>\n",
       "      <td>247</td>\n",
       "      <td>2</td>\n",
       "    </tr>\n",
       "    <tr>\n",
       "      <th>495</th>\n",
       "      <td>2011/08/10 09:46:54.460552</td>\n",
       "      <td>0.000000</td>\n",
       "      <td>udp</td>\n",
       "      <td>147.32.80.9</td>\n",
       "      <td>53</td>\n",
       "      <td>2</td>\n",
       "      <td>147.32.86.111</td>\n",
       "      <td>54823</td>\n",
       "      <td>INT</td>\n",
       "      <td>0.0</td>\n",
       "      <td>NaN</td>\n",
       "      <td>1</td>\n",
       "      <td>173</td>\n",
       "      <td>173</td>\n",
       "      <td>2</td>\n",
       "    </tr>\n",
       "    <tr>\n",
       "      <th>596</th>\n",
       "      <td>2011/08/10 09:46:54.779125</td>\n",
       "      <td>0.000291</td>\n",
       "      <td>udp</td>\n",
       "      <td>147.32.84.134</td>\n",
       "      <td>40693</td>\n",
       "      <td>1</td>\n",
       "      <td>147.32.80.9</td>\n",
       "      <td>53</td>\n",
       "      <td>CON</td>\n",
       "      <td>0.0</td>\n",
       "      <td>0.0</td>\n",
       "      <td>2</td>\n",
       "      <td>207</td>\n",
       "      <td>72</td>\n",
       "      <td>2</td>\n",
       "    </tr>\n",
       "    <tr>\n",
       "      <th>597</th>\n",
       "      <td>2011/08/10 09:46:54.779641</td>\n",
       "      <td>0.000321</td>\n",
       "      <td>udp</td>\n",
       "      <td>147.32.84.134</td>\n",
       "      <td>47415</td>\n",
       "      <td>1</td>\n",
       "      <td>147.32.80.9</td>\n",
       "      <td>53</td>\n",
       "      <td>CON</td>\n",
       "      <td>0.0</td>\n",
       "      <td>0.0</td>\n",
       "      <td>2</td>\n",
       "      <td>247</td>\n",
       "      <td>72</td>\n",
       "      <td>2</td>\n",
       "    </tr>\n",
       "    <tr>\n",
       "      <th>...</th>\n",
       "      <td>...</td>\n",
       "      <td>...</td>\n",
       "      <td>...</td>\n",
       "      <td>...</td>\n",
       "      <td>...</td>\n",
       "      <td>...</td>\n",
       "      <td>...</td>\n",
       "      <td>...</td>\n",
       "      <td>...</td>\n",
       "      <td>...</td>\n",
       "      <td>...</td>\n",
       "      <td>...</td>\n",
       "      <td>...</td>\n",
       "      <td>...</td>\n",
       "      <td>...</td>\n",
       "    </tr>\n",
       "    <tr>\n",
       "      <th>19975942</th>\n",
       "      <td>2011/08/16 09:35:46.594868</td>\n",
       "      <td>0.000429</td>\n",
       "      <td>udp</td>\n",
       "      <td>147.32.84.170</td>\n",
       "      <td>55989</td>\n",
       "      <td>1</td>\n",
       "      <td>147.32.80.9</td>\n",
       "      <td>53</td>\n",
       "      <td>CON</td>\n",
       "      <td>0.0</td>\n",
       "      <td>0.0</td>\n",
       "      <td>2</td>\n",
       "      <td>400</td>\n",
       "      <td>74</td>\n",
       "      <td>2</td>\n",
       "    </tr>\n",
       "    <tr>\n",
       "      <th>19975943</th>\n",
       "      <td>2011/08/16 09:35:46.596051</td>\n",
       "      <td>0.018334</td>\n",
       "      <td>tcp</td>\n",
       "      <td>147.32.84.170</td>\n",
       "      <td>43453</td>\n",
       "      <td>2</td>\n",
       "      <td>209.85.148.99</td>\n",
       "      <td>80</td>\n",
       "      <td>FSA_FSA</td>\n",
       "      <td>0.0</td>\n",
       "      <td>0.0</td>\n",
       "      <td>6</td>\n",
       "      <td>412</td>\n",
       "      <td>272</td>\n",
       "      <td>2</td>\n",
       "    </tr>\n",
       "    <tr>\n",
       "      <th>19976516</th>\n",
       "      <td>2011/08/16 09:35:56.593152</td>\n",
       "      <td>0.000521</td>\n",
       "      <td>udp</td>\n",
       "      <td>147.32.84.170</td>\n",
       "      <td>38927</td>\n",
       "      <td>1</td>\n",
       "      <td>147.32.80.9</td>\n",
       "      <td>53</td>\n",
       "      <td>CON</td>\n",
       "      <td>0.0</td>\n",
       "      <td>0.0</td>\n",
       "      <td>2</td>\n",
       "      <td>400</td>\n",
       "      <td>74</td>\n",
       "      <td>2</td>\n",
       "    </tr>\n",
       "    <tr>\n",
       "      <th>19976517</th>\n",
       "      <td>2011/08/16 09:35:56.594273</td>\n",
       "      <td>0.000242</td>\n",
       "      <td>udp</td>\n",
       "      <td>147.32.84.170</td>\n",
       "      <td>37057</td>\n",
       "      <td>1</td>\n",
       "      <td>147.32.80.9</td>\n",
       "      <td>53</td>\n",
       "      <td>CON</td>\n",
       "      <td>0.0</td>\n",
       "      <td>0.0</td>\n",
       "      <td>2</td>\n",
       "      <td>400</td>\n",
       "      <td>74</td>\n",
       "      <td>2</td>\n",
       "    </tr>\n",
       "    <tr>\n",
       "      <th>19976518</th>\n",
       "      <td>2011/08/16 09:35:56.595551</td>\n",
       "      <td>0.017897</td>\n",
       "      <td>tcp</td>\n",
       "      <td>147.32.84.170</td>\n",
       "      <td>43454</td>\n",
       "      <td>2</td>\n",
       "      <td>209.85.148.99</td>\n",
       "      <td>80</td>\n",
       "      <td>FSA_FSA</td>\n",
       "      <td>0.0</td>\n",
       "      <td>0.0</td>\n",
       "      <td>6</td>\n",
       "      <td>412</td>\n",
       "      <td>272</td>\n",
       "      <td>2</td>\n",
       "    </tr>\n",
       "  </tbody>\n",
       "</table>\n",
       "<p>801132 rows × 15 columns</p>\n",
       "</div>"
      ],
      "text/plain": [
       "                           StartTime       Dur Proto        SrcAddr  Sport  \\\n",
       "150       2011/08/10 09:46:53.160043  0.000000   udp    147.32.80.9     53   \n",
       "408       2011/08/10 09:46:54.045343  0.000000   udp    147.32.80.9     53   \n",
       "495       2011/08/10 09:46:54.460552  0.000000   udp    147.32.80.9     53   \n",
       "596       2011/08/10 09:46:54.779125  0.000291   udp  147.32.84.134  40693   \n",
       "597       2011/08/10 09:46:54.779641  0.000321   udp  147.32.84.134  47415   \n",
       "...                              ...       ...   ...            ...    ...   \n",
       "19975942  2011/08/16 09:35:46.594868  0.000429   udp  147.32.84.170  55989   \n",
       "19975943  2011/08/16 09:35:46.596051  0.018334   tcp  147.32.84.170  43453   \n",
       "19976516  2011/08/16 09:35:56.593152  0.000521   udp  147.32.84.170  38927   \n",
       "19976517  2011/08/16 09:35:56.594273  0.000242   udp  147.32.84.170  37057   \n",
       "19976518  2011/08/16 09:35:56.595551  0.017897   tcp  147.32.84.170  43454   \n",
       "\n",
       "          Dir        DstAddr  Dport    State  sTos  dTos  TotPkts  TotBytes  \\\n",
       "150         2  147.32.86.111  54230      INT   0.0   NaN        1       141   \n",
       "408         2  147.32.86.111  58314      INT   0.0   NaN        1       247   \n",
       "495         2  147.32.86.111  54823      INT   0.0   NaN        1       173   \n",
       "596         1    147.32.80.9     53      CON   0.0   0.0        2       207   \n",
       "597         1    147.32.80.9     53      CON   0.0   0.0        2       247   \n",
       "...       ...            ...    ...      ...   ...   ...      ...       ...   \n",
       "19975942    1    147.32.80.9     53      CON   0.0   0.0        2       400   \n",
       "19975943    2  209.85.148.99     80  FSA_FSA   0.0   0.0        6       412   \n",
       "19976516    1    147.32.80.9     53      CON   0.0   0.0        2       400   \n",
       "19976517    1    147.32.80.9     53      CON   0.0   0.0        2       400   \n",
       "19976518    2  209.85.148.99     80  FSA_FSA   0.0   0.0        6       412   \n",
       "\n",
       "          SrcBytes  Label  \n",
       "150            141      2  \n",
       "408            247      2  \n",
       "495            173      2  \n",
       "596             72      2  \n",
       "597             72      2  \n",
       "...            ...    ...  \n",
       "19975942        74      2  \n",
       "19975943       272      2  \n",
       "19976516        74      2  \n",
       "19976517        74      2  \n",
       "19976518       272      2  \n",
       "\n",
       "[801132 rows x 15 columns]"
      ]
     },
     "execution_count": 9,
     "metadata": {},
     "output_type": "execute_result"
    }
   ],
   "source": [
    "dataset"
   ]
  },
  {
   "cell_type": "code",
   "execution_count": 10,
   "metadata": {
    "execution": {
     "iopub.execute_input": "2025-08-16T11:48:28.888546Z",
     "iopub.status.busy": "2025-08-16T11:48:28.888355Z",
     "iopub.status.idle": "2025-08-16T11:48:28.893008Z",
     "shell.execute_reply": "2025-08-16T11:48:28.892440Z",
     "shell.execute_reply.started": "2025-08-16T11:48:28.888532Z"
    },
    "trusted": true
   },
   "outputs": [
    {
     "data": {
      "text/plain": [
       "Index(['StartTime', 'Dur', 'Proto', 'SrcAddr', 'Sport', 'Dir', 'DstAddr',\n",
       "       'Dport', 'State', 'sTos', 'dTos', 'TotPkts', 'TotBytes', 'SrcBytes',\n",
       "       'Label'],\n",
       "      dtype='object')"
      ]
     },
     "execution_count": 10,
     "metadata": {},
     "output_type": "execute_result"
    }
   ],
   "source": [
    "dataset.columns"
   ]
  },
  {
   "cell_type": "code",
   "execution_count": 11,
   "metadata": {
    "execution": {
     "iopub.execute_input": "2025-08-16T11:48:28.894204Z",
     "iopub.status.busy": "2025-08-16T11:48:28.893849Z",
     "iopub.status.idle": "2025-08-16T11:48:29.297487Z",
     "shell.execute_reply": "2025-08-16T11:48:29.296812Z",
     "shell.execute_reply.started": "2025-08-16T11:48:28.894181Z"
    },
    "trusted": true
   },
   "outputs": [],
   "source": [
    "dataset.dropna(inplace=True)"
   ]
  },
  {
   "cell_type": "code",
   "execution_count": 12,
   "metadata": {
    "execution": {
     "iopub.execute_input": "2025-08-16T11:48:29.298765Z",
     "iopub.status.busy": "2025-08-16T11:48:29.298490Z",
     "iopub.status.idle": "2025-08-16T11:48:29.464055Z",
     "shell.execute_reply": "2025-08-16T11:48:29.463431Z",
     "shell.execute_reply.started": "2025-08-16T11:48:29.298742Z"
    },
    "trusted": true
   },
   "outputs": [
    {
     "data": {
      "text/plain": [
       "596        2011-08-10 09:46:54.779125\n",
       "597        2011-08-10 09:46:54.779641\n",
       "598        2011-08-10 09:46:54.780268\n",
       "1080       2011-08-10 09:46:56.955681\n",
       "1269       2011-08-10 09:46:57.796719\n",
       "                      ...            \n",
       "19975942   2011-08-16 09:35:46.594868\n",
       "19975943   2011-08-16 09:35:46.596051\n",
       "19976516   2011-08-16 09:35:56.593152\n",
       "19976517   2011-08-16 09:35:56.594273\n",
       "19976518   2011-08-16 09:35:56.595551\n",
       "Name: StartTime, Length: 563790, dtype: datetime64[ns]"
      ]
     },
     "execution_count": 12,
     "metadata": {},
     "output_type": "execute_result"
    }
   ],
   "source": [
    "dt = pd.to_datetime(dataset['StartTime'], format='%Y/%m/%d %H:%M:%S.%f')\n",
    "dt"
   ]
  },
  {
   "cell_type": "code",
   "execution_count": 13,
   "metadata": {
    "execution": {
     "iopub.execute_input": "2025-08-16T11:48:29.465110Z",
     "iopub.status.busy": "2025-08-16T11:48:29.464873Z",
     "iopub.status.idle": "2025-08-16T11:48:29.478310Z",
     "shell.execute_reply": "2025-08-16T11:48:29.477793Z",
     "shell.execute_reply.started": "2025-08-16T11:48:29.465094Z"
    },
    "trusted": true
   },
   "outputs": [],
   "source": [
    "df = pd.DataFrame({'datetime': dt})\n"
   ]
  },
  {
   "cell_type": "code",
   "execution_count": 14,
   "metadata": {
    "execution": {
     "iopub.execute_input": "2025-08-16T11:48:29.479218Z",
     "iopub.status.busy": "2025-08-16T11:48:29.478986Z",
     "iopub.status.idle": "2025-08-16T11:48:29.591100Z",
     "shell.execute_reply": "2025-08-16T11:48:29.590605Z",
     "shell.execute_reply.started": "2025-08-16T11:48:29.479193Z"
    },
    "trusted": true
   },
   "outputs": [],
   "source": [
    "dataset['year'] = df['datetime'].dt.year\n",
    "dataset['month'] = df['datetime'].dt.month\n",
    "dataset['day'] = df['datetime'].dt.day\n",
    "dataset['hour'] = df['datetime'].dt.hour\n",
    "dataset['minute'] = df['datetime'].dt.minute\n",
    "dataset['second'] = df['datetime'].dt.second\n",
    "dataset['dayofweek'] = df['datetime'].dt.dayofweek  # Monday=0, Sunday=6\n",
    "dataset['is_weekend'] = dataset['dayofweek'].isin([5,6]).astype(int)"
   ]
  },
  {
   "cell_type": "code",
   "execution_count": 15,
   "metadata": {
    "execution": {
     "iopub.execute_input": "2025-08-16T11:48:29.591950Z",
     "iopub.status.busy": "2025-08-16T11:48:29.591759Z",
     "iopub.status.idle": "2025-08-16T11:48:29.667957Z",
     "shell.execute_reply": "2025-08-16T11:48:29.667175Z",
     "shell.execute_reply.started": "2025-08-16T11:48:29.591935Z"
    },
    "trusted": true
   },
   "outputs": [],
   "source": [
    "dataset.drop(columns=['StartTime'],inplace=True)"
   ]
  },
  {
   "cell_type": "code",
   "execution_count": 16,
   "metadata": {
    "execution": {
     "iopub.execute_input": "2025-08-16T11:48:29.669036Z",
     "iopub.status.busy": "2025-08-16T11:48:29.668765Z",
     "iopub.status.idle": "2025-08-16T11:48:30.054916Z",
     "shell.execute_reply": "2025-08-16T11:48:30.054289Z",
     "shell.execute_reply.started": "2025-08-16T11:48:29.669010Z"
    },
    "trusted": true
   },
   "outputs": [
    {
     "data": {
      "text/html": [
       "<div>\n",
       "<style scoped>\n",
       "    .dataframe tbody tr th:only-of-type {\n",
       "        vertical-align: middle;\n",
       "    }\n",
       "\n",
       "    .dataframe tbody tr th {\n",
       "        vertical-align: top;\n",
       "    }\n",
       "\n",
       "    .dataframe thead th {\n",
       "        text-align: right;\n",
       "    }\n",
       "</style>\n",
       "<table border=\"1\" class=\"dataframe\">\n",
       "  <thead>\n",
       "    <tr style=\"text-align: right;\">\n",
       "      <th></th>\n",
       "      <th>Dur</th>\n",
       "      <th>Proto</th>\n",
       "      <th>SrcAddr</th>\n",
       "      <th>Sport</th>\n",
       "      <th>Dir</th>\n",
       "      <th>DstAddr</th>\n",
       "      <th>Dport</th>\n",
       "      <th>State</th>\n",
       "      <th>sTos</th>\n",
       "      <th>dTos</th>\n",
       "      <th>...</th>\n",
       "      <th>SrcBytes</th>\n",
       "      <th>Label</th>\n",
       "      <th>year</th>\n",
       "      <th>month</th>\n",
       "      <th>day</th>\n",
       "      <th>hour</th>\n",
       "      <th>minute</th>\n",
       "      <th>second</th>\n",
       "      <th>dayofweek</th>\n",
       "      <th>is_weekend</th>\n",
       "    </tr>\n",
       "  </thead>\n",
       "  <tbody>\n",
       "    <tr>\n",
       "      <th>596</th>\n",
       "      <td>0.000291</td>\n",
       "      <td>udp</td>\n",
       "      <td>147.32.84.134</td>\n",
       "      <td>40693</td>\n",
       "      <td>1</td>\n",
       "      <td>147.32.80.9</td>\n",
       "      <td>53</td>\n",
       "      <td>CON</td>\n",
       "      <td>0.0</td>\n",
       "      <td>0.0</td>\n",
       "      <td>...</td>\n",
       "      <td>72</td>\n",
       "      <td>2</td>\n",
       "      <td>2011</td>\n",
       "      <td>8</td>\n",
       "      <td>10</td>\n",
       "      <td>9</td>\n",
       "      <td>46</td>\n",
       "      <td>54</td>\n",
       "      <td>2</td>\n",
       "      <td>0</td>\n",
       "    </tr>\n",
       "    <tr>\n",
       "      <th>597</th>\n",
       "      <td>0.000321</td>\n",
       "      <td>udp</td>\n",
       "      <td>147.32.84.134</td>\n",
       "      <td>47415</td>\n",
       "      <td>1</td>\n",
       "      <td>147.32.80.9</td>\n",
       "      <td>53</td>\n",
       "      <td>CON</td>\n",
       "      <td>0.0</td>\n",
       "      <td>0.0</td>\n",
       "      <td>...</td>\n",
       "      <td>72</td>\n",
       "      <td>2</td>\n",
       "      <td>2011</td>\n",
       "      <td>8</td>\n",
       "      <td>10</td>\n",
       "      <td>9</td>\n",
       "      <td>46</td>\n",
       "      <td>54</td>\n",
       "      <td>2</td>\n",
       "      <td>0</td>\n",
       "    </tr>\n",
       "    <tr>\n",
       "      <th>598</th>\n",
       "      <td>0.007678</td>\n",
       "      <td>tcp</td>\n",
       "      <td>147.32.84.134</td>\n",
       "      <td>45718</td>\n",
       "      <td>2</td>\n",
       "      <td>88.86.100.176</td>\n",
       "      <td>80</td>\n",
       "      <td>FSPA_FSPA</td>\n",
       "      <td>0.0</td>\n",
       "      <td>0.0</td>\n",
       "      <td>...</td>\n",
       "      <td>457</td>\n",
       "      <td>2</td>\n",
       "      <td>2011</td>\n",
       "      <td>8</td>\n",
       "      <td>10</td>\n",
       "      <td>9</td>\n",
       "      <td>46</td>\n",
       "      <td>54</td>\n",
       "      <td>2</td>\n",
       "      <td>0</td>\n",
       "    </tr>\n",
       "    <tr>\n",
       "      <th>1080</th>\n",
       "      <td>3585.430176</td>\n",
       "      <td>tcp</td>\n",
       "      <td>147.32.84.164</td>\n",
       "      <td>39177</td>\n",
       "      <td>0</td>\n",
       "      <td>74.125.232.216</td>\n",
       "      <td>443</td>\n",
       "      <td>PA_PA</td>\n",
       "      <td>0.0</td>\n",
       "      <td>0.0</td>\n",
       "      <td>...</td>\n",
       "      <td>219986</td>\n",
       "      <td>2</td>\n",
       "      <td>2011</td>\n",
       "      <td>8</td>\n",
       "      <td>10</td>\n",
       "      <td>9</td>\n",
       "      <td>46</td>\n",
       "      <td>56</td>\n",
       "      <td>2</td>\n",
       "      <td>0</td>\n",
       "    </tr>\n",
       "    <tr>\n",
       "      <th>1269</th>\n",
       "      <td>0.000318</td>\n",
       "      <td>udp</td>\n",
       "      <td>147.32.84.134</td>\n",
       "      <td>36480</td>\n",
       "      <td>1</td>\n",
       "      <td>147.32.80.9</td>\n",
       "      <td>53</td>\n",
       "      <td>CON</td>\n",
       "      <td>0.0</td>\n",
       "      <td>0.0</td>\n",
       "      <td>...</td>\n",
       "      <td>72</td>\n",
       "      <td>2</td>\n",
       "      <td>2011</td>\n",
       "      <td>8</td>\n",
       "      <td>10</td>\n",
       "      <td>9</td>\n",
       "      <td>46</td>\n",
       "      <td>57</td>\n",
       "      <td>2</td>\n",
       "      <td>0</td>\n",
       "    </tr>\n",
       "    <tr>\n",
       "      <th>...</th>\n",
       "      <td>...</td>\n",
       "      <td>...</td>\n",
       "      <td>...</td>\n",
       "      <td>...</td>\n",
       "      <td>...</td>\n",
       "      <td>...</td>\n",
       "      <td>...</td>\n",
       "      <td>...</td>\n",
       "      <td>...</td>\n",
       "      <td>...</td>\n",
       "      <td>...</td>\n",
       "      <td>...</td>\n",
       "      <td>...</td>\n",
       "      <td>...</td>\n",
       "      <td>...</td>\n",
       "      <td>...</td>\n",
       "      <td>...</td>\n",
       "      <td>...</td>\n",
       "      <td>...</td>\n",
       "      <td>...</td>\n",
       "      <td>...</td>\n",
       "    </tr>\n",
       "    <tr>\n",
       "      <th>19975942</th>\n",
       "      <td>0.000429</td>\n",
       "      <td>udp</td>\n",
       "      <td>147.32.84.170</td>\n",
       "      <td>55989</td>\n",
       "      <td>1</td>\n",
       "      <td>147.32.80.9</td>\n",
       "      <td>53</td>\n",
       "      <td>CON</td>\n",
       "      <td>0.0</td>\n",
       "      <td>0.0</td>\n",
       "      <td>...</td>\n",
       "      <td>74</td>\n",
       "      <td>2</td>\n",
       "      <td>2011</td>\n",
       "      <td>8</td>\n",
       "      <td>16</td>\n",
       "      <td>9</td>\n",
       "      <td>35</td>\n",
       "      <td>46</td>\n",
       "      <td>1</td>\n",
       "      <td>0</td>\n",
       "    </tr>\n",
       "    <tr>\n",
       "      <th>19975943</th>\n",
       "      <td>0.018334</td>\n",
       "      <td>tcp</td>\n",
       "      <td>147.32.84.170</td>\n",
       "      <td>43453</td>\n",
       "      <td>2</td>\n",
       "      <td>209.85.148.99</td>\n",
       "      <td>80</td>\n",
       "      <td>FSA_FSA</td>\n",
       "      <td>0.0</td>\n",
       "      <td>0.0</td>\n",
       "      <td>...</td>\n",
       "      <td>272</td>\n",
       "      <td>2</td>\n",
       "      <td>2011</td>\n",
       "      <td>8</td>\n",
       "      <td>16</td>\n",
       "      <td>9</td>\n",
       "      <td>35</td>\n",
       "      <td>46</td>\n",
       "      <td>1</td>\n",
       "      <td>0</td>\n",
       "    </tr>\n",
       "    <tr>\n",
       "      <th>19976516</th>\n",
       "      <td>0.000521</td>\n",
       "      <td>udp</td>\n",
       "      <td>147.32.84.170</td>\n",
       "      <td>38927</td>\n",
       "      <td>1</td>\n",
       "      <td>147.32.80.9</td>\n",
       "      <td>53</td>\n",
       "      <td>CON</td>\n",
       "      <td>0.0</td>\n",
       "      <td>0.0</td>\n",
       "      <td>...</td>\n",
       "      <td>74</td>\n",
       "      <td>2</td>\n",
       "      <td>2011</td>\n",
       "      <td>8</td>\n",
       "      <td>16</td>\n",
       "      <td>9</td>\n",
       "      <td>35</td>\n",
       "      <td>56</td>\n",
       "      <td>1</td>\n",
       "      <td>0</td>\n",
       "    </tr>\n",
       "    <tr>\n",
       "      <th>19976517</th>\n",
       "      <td>0.000242</td>\n",
       "      <td>udp</td>\n",
       "      <td>147.32.84.170</td>\n",
       "      <td>37057</td>\n",
       "      <td>1</td>\n",
       "      <td>147.32.80.9</td>\n",
       "      <td>53</td>\n",
       "      <td>CON</td>\n",
       "      <td>0.0</td>\n",
       "      <td>0.0</td>\n",
       "      <td>...</td>\n",
       "      <td>74</td>\n",
       "      <td>2</td>\n",
       "      <td>2011</td>\n",
       "      <td>8</td>\n",
       "      <td>16</td>\n",
       "      <td>9</td>\n",
       "      <td>35</td>\n",
       "      <td>56</td>\n",
       "      <td>1</td>\n",
       "      <td>0</td>\n",
       "    </tr>\n",
       "    <tr>\n",
       "      <th>19976518</th>\n",
       "      <td>0.017897</td>\n",
       "      <td>tcp</td>\n",
       "      <td>147.32.84.170</td>\n",
       "      <td>43454</td>\n",
       "      <td>2</td>\n",
       "      <td>209.85.148.99</td>\n",
       "      <td>80</td>\n",
       "      <td>FSA_FSA</td>\n",
       "      <td>0.0</td>\n",
       "      <td>0.0</td>\n",
       "      <td>...</td>\n",
       "      <td>272</td>\n",
       "      <td>2</td>\n",
       "      <td>2011</td>\n",
       "      <td>8</td>\n",
       "      <td>16</td>\n",
       "      <td>9</td>\n",
       "      <td>35</td>\n",
       "      <td>56</td>\n",
       "      <td>1</td>\n",
       "      <td>0</td>\n",
       "    </tr>\n",
       "  </tbody>\n",
       "</table>\n",
       "<p>563790 rows × 22 columns</p>\n",
       "</div>"
      ],
      "text/plain": [
       "                  Dur Proto        SrcAddr  Sport  Dir         DstAddr Dport  \\\n",
       "596          0.000291   udp  147.32.84.134  40693    1     147.32.80.9    53   \n",
       "597          0.000321   udp  147.32.84.134  47415    1     147.32.80.9    53   \n",
       "598          0.007678   tcp  147.32.84.134  45718    2   88.86.100.176    80   \n",
       "1080      3585.430176   tcp  147.32.84.164  39177    0  74.125.232.216   443   \n",
       "1269         0.000318   udp  147.32.84.134  36480    1     147.32.80.9    53   \n",
       "...               ...   ...            ...    ...  ...             ...   ...   \n",
       "19975942     0.000429   udp  147.32.84.170  55989    1     147.32.80.9    53   \n",
       "19975943     0.018334   tcp  147.32.84.170  43453    2   209.85.148.99    80   \n",
       "19976516     0.000521   udp  147.32.84.170  38927    1     147.32.80.9    53   \n",
       "19976517     0.000242   udp  147.32.84.170  37057    1     147.32.80.9    53   \n",
       "19976518     0.017897   tcp  147.32.84.170  43454    2   209.85.148.99    80   \n",
       "\n",
       "              State  sTos  dTos  ...  SrcBytes  Label  year  month  day  hour  \\\n",
       "596             CON   0.0   0.0  ...        72      2  2011      8   10     9   \n",
       "597             CON   0.0   0.0  ...        72      2  2011      8   10     9   \n",
       "598       FSPA_FSPA   0.0   0.0  ...       457      2  2011      8   10     9   \n",
       "1080          PA_PA   0.0   0.0  ...    219986      2  2011      8   10     9   \n",
       "1269            CON   0.0   0.0  ...        72      2  2011      8   10     9   \n",
       "...             ...   ...   ...  ...       ...    ...   ...    ...  ...   ...   \n",
       "19975942        CON   0.0   0.0  ...        74      2  2011      8   16     9   \n",
       "19975943    FSA_FSA   0.0   0.0  ...       272      2  2011      8   16     9   \n",
       "19976516        CON   0.0   0.0  ...        74      2  2011      8   16     9   \n",
       "19976517        CON   0.0   0.0  ...        74      2  2011      8   16     9   \n",
       "19976518    FSA_FSA   0.0   0.0  ...       272      2  2011      8   16     9   \n",
       "\n",
       "          minute  second  dayofweek  is_weekend  \n",
       "596           46      54          2           0  \n",
       "597           46      54          2           0  \n",
       "598           46      54          2           0  \n",
       "1080          46      56          2           0  \n",
       "1269          46      57          2           0  \n",
       "...          ...     ...        ...         ...  \n",
       "19975942      35      46          1           0  \n",
       "19975943      35      46          1           0  \n",
       "19976516      35      56          1           0  \n",
       "19976517      35      56          1           0  \n",
       "19976518      35      56          1           0  \n",
       "\n",
       "[563790 rows x 22 columns]"
      ]
     },
     "execution_count": 16,
     "metadata": {},
     "output_type": "execute_result"
    }
   ],
   "source": [
    "dataset"
   ]
  },
  {
   "cell_type": "code",
   "execution_count": 17,
   "metadata": {
    "execution": {
     "iopub.execute_input": "2025-08-16T11:48:30.055861Z",
     "iopub.status.busy": "2025-08-16T11:48:30.055668Z",
     "iopub.status.idle": "2025-08-16T11:48:30.061430Z",
     "shell.execute_reply": "2025-08-16T11:48:30.060878Z",
     "shell.execute_reply.started": "2025-08-16T11:48:30.055846Z"
    },
    "trusted": true
   },
   "outputs": [
    {
     "data": {
      "text/plain": [
       "Dur           float64\n",
       "Proto          object\n",
       "SrcAddr        object\n",
       "Sport          object\n",
       "Dir             int64\n",
       "DstAddr        object\n",
       "Dport          object\n",
       "State          object\n",
       "sTos          float64\n",
       "dTos          float64\n",
       "TotPkts         int64\n",
       "TotBytes        int64\n",
       "SrcBytes        int64\n",
       "Label           int64\n",
       "year            int32\n",
       "month           int32\n",
       "day             int32\n",
       "hour            int32\n",
       "minute          int32\n",
       "second          int32\n",
       "dayofweek       int32\n",
       "is_weekend      int64\n",
       "dtype: object"
      ]
     },
     "execution_count": 17,
     "metadata": {},
     "output_type": "execute_result"
    }
   ],
   "source": [
    "dataset.dtypes"
   ]
  },
  {
   "cell_type": "code",
   "execution_count": 18,
   "metadata": {
    "execution": {
     "iopub.execute_input": "2025-08-16T11:48:30.062367Z",
     "iopub.status.busy": "2025-08-16T11:48:30.062150Z",
     "iopub.status.idle": "2025-08-16T11:48:30.076617Z",
     "shell.execute_reply": "2025-08-16T11:48:30.075923Z",
     "shell.execute_reply.started": "2025-08-16T11:48:30.062352Z"
    },
    "trusted": true
   },
   "outputs": [],
   "source": [
    "cat_cols=['Proto','SrcAddr','DstAddr','Dport','State']"
   ]
  },
  {
   "cell_type": "code",
   "execution_count": 19,
   "metadata": {
    "execution": {
     "iopub.execute_input": "2025-08-16T11:48:30.077395Z",
     "iopub.status.busy": "2025-08-16T11:48:30.077212Z",
     "iopub.status.idle": "2025-08-16T11:48:30.723649Z",
     "shell.execute_reply": "2025-08-16T11:48:30.723094Z",
     "shell.execute_reply.started": "2025-08-16T11:48:30.077381Z"
    },
    "trusted": true
   },
   "outputs": [],
   "source": [
    "from sklearn.preprocessing import LabelEncoder\n",
    "le = LabelEncoder()\n"
   ]
  },
  {
   "cell_type": "code",
   "execution_count": 20,
   "metadata": {
    "execution": {
     "iopub.execute_input": "2025-08-16T11:48:30.724739Z",
     "iopub.status.busy": "2025-08-16T11:48:30.724341Z",
     "iopub.status.idle": "2025-08-16T11:48:31.168514Z",
     "shell.execute_reply": "2025-08-16T11:48:31.167946Z",
     "shell.execute_reply.started": "2025-08-16T11:48:30.724719Z"
    },
    "trusted": true
   },
   "outputs": [
    {
     "name": "stdout",
     "output_type": "stream",
     "text": [
      "Proto\n",
      "SrcAddr\n",
      "DstAddr\n",
      "Dport\n",
      "State\n"
     ]
    }
   ],
   "source": [
    "for col in cat_cols:\n",
    "    print(col)\n",
    "    numeric_labels = le.fit_transform(dataset[col])\n",
    "    dataset[col]=numeric_labels\n",
    "\n",
    "    \n",
    "    \n",
    "    "
   ]
  },
  {
   "cell_type": "code",
   "execution_count": 21,
   "metadata": {
    "execution": {
     "iopub.execute_input": "2025-08-16T11:48:31.169437Z",
     "iopub.status.busy": "2025-08-16T11:48:31.169221Z",
     "iopub.status.idle": "2025-08-16T11:48:31.512093Z",
     "shell.execute_reply": "2025-08-16T11:48:31.511458Z",
     "shell.execute_reply.started": "2025-08-16T11:48:31.169421Z"
    },
    "trusted": true
   },
   "outputs": [],
   "source": [
    "numeric_labels = le.fit_transform(dataset['Sport'].astype('str'))\n"
   ]
  },
  {
   "cell_type": "code",
   "execution_count": 22,
   "metadata": {
    "execution": {
     "iopub.execute_input": "2025-08-16T11:48:31.512989Z",
     "iopub.status.busy": "2025-08-16T11:48:31.512748Z",
     "iopub.status.idle": "2025-08-16T11:48:31.526561Z",
     "shell.execute_reply": "2025-08-16T11:48:31.525874Z",
     "shell.execute_reply.started": "2025-08-16T11:48:31.512964Z"
    },
    "trusted": true
   },
   "outputs": [],
   "source": [
    "dataset['Sport']=numeric_labels\n"
   ]
  },
  {
   "cell_type": "code",
   "execution_count": 23,
   "metadata": {
    "execution": {
     "iopub.execute_input": "2025-08-16T11:48:31.527517Z",
     "iopub.status.busy": "2025-08-16T11:48:31.527276Z",
     "iopub.status.idle": "2025-08-16T11:48:31.543347Z",
     "shell.execute_reply": "2025-08-16T11:48:31.542587Z",
     "shell.execute_reply.started": "2025-08-16T11:48:31.527492Z"
    },
    "trusted": true
   },
   "outputs": [
    {
     "name": "stdout",
     "output_type": "stream",
     "text": [
      "451032\n",
      "56379\n",
      "451032\n"
     ]
    }
   ],
   "source": [
    "print(int(len(dataset)*0.8)) #for training encider for embedings\n",
    "print(int(len(dataset)*0.1)) #for trainnig linear model later\n",
    "print(int(len(dataset)*0.8)) #for evaluation "
   ]
  },
  {
   "cell_type": "code",
   "execution_count": 24,
   "metadata": {
    "execution": {
     "iopub.execute_input": "2025-08-16T11:48:31.544242Z",
     "iopub.status.busy": "2025-08-16T11:48:31.544084Z",
     "iopub.status.idle": "2025-08-16T11:48:31.605344Z",
     "shell.execute_reply": "2025-08-16T11:48:31.604786Z",
     "shell.execute_reply.started": "2025-08-16T11:48:31.544229Z"
    },
    "trusted": true
   },
   "outputs": [],
   "source": [
    "datasetlabeled=dataset.copy()\n"
   ]
  },
  {
   "cell_type": "code",
   "execution_count": 25,
   "metadata": {
    "execution": {
     "iopub.execute_input": "2025-08-16T11:48:31.606305Z",
     "iopub.status.busy": "2025-08-16T11:48:31.606069Z",
     "iopub.status.idle": "2025-08-16T11:48:31.611058Z",
     "shell.execute_reply": "2025-08-16T11:48:31.610513Z",
     "shell.execute_reply.started": "2025-08-16T11:48:31.606280Z"
    },
    "trusted": true
   },
   "outputs": [
    {
     "data": {
      "text/plain": [
       "Index(['Dur', 'Proto', 'SrcAddr', 'Sport', 'Dir', 'DstAddr', 'Dport', 'State',\n",
       "       'sTos', 'dTos', 'TotPkts', 'TotBytes', 'SrcBytes', 'Label', 'year',\n",
       "       'month', 'day', 'hour', 'minute', 'second', 'dayofweek', 'is_weekend'],\n",
       "      dtype='object')"
      ]
     },
     "execution_count": 25,
     "metadata": {},
     "output_type": "execute_result"
    }
   ],
   "source": [
    "datasetlabeled.columns"
   ]
  },
  {
   "cell_type": "code",
   "execution_count": 26,
   "metadata": {
    "execution": {
     "iopub.execute_input": "2025-08-16T11:48:31.612187Z",
     "iopub.status.busy": "2025-08-16T11:48:31.611893Z",
     "iopub.status.idle": "2025-08-16T11:48:31.650992Z",
     "shell.execute_reply": "2025-08-16T11:48:31.650533Z",
     "shell.execute_reply.started": "2025-08-16T11:48:31.612164Z"
    },
    "trusted": true
   },
   "outputs": [],
   "source": [
    "dataset.drop(columns=['Label'],inplace=True)"
   ]
  },
  {
   "cell_type": "markdown",
   "metadata": {},
   "source": [
    "### we preserve some of the data from trainin the linear"
   ]
  },
  {
   "cell_type": "code",
   "execution_count": 27,
   "metadata": {
    "execution": {
     "iopub.execute_input": "2025-08-16T11:48:31.652363Z",
     "iopub.status.busy": "2025-08-16T11:48:31.651574Z",
     "iopub.status.idle": "2025-08-16T11:48:31.656357Z",
     "shell.execute_reply": "2025-08-16T11:48:31.655635Z",
     "shell.execute_reply.started": "2025-08-16T11:48:31.652338Z"
    },
    "trusted": true
   },
   "outputs": [],
   "source": [
    "total_len = len(dataset)\n",
    "\n",
    "# 80% for encoder (unlabeled)\n",
    "encoder_data = dataset[:int(total_len * 0.8)]\n",
    "\n",
    "# Next 10% for linear classifier training (labeled)\n",
    "linear_model = datasetlabeled[int(total_len * 0.8):int(total_len * 0.9)]\n",
    "\n",
    "# Final 10% for evaluation (labeled)\n",
    "datasetevaluation = datasetlabeled[int(total_len * 0.9):]\n",
    "dataset=encoder_data"
   ]
  },
  {
   "cell_type": "code",
   "execution_count": 28,
   "metadata": {
    "execution": {
     "iopub.execute_input": "2025-08-16T11:48:31.660418Z",
     "iopub.status.busy": "2025-08-16T11:48:31.659895Z",
     "iopub.status.idle": "2025-08-16T11:48:31.672941Z",
     "shell.execute_reply": "2025-08-16T11:48:31.672339Z",
     "shell.execute_reply.started": "2025-08-16T11:48:31.660400Z"
    },
    "trusted": true
   },
   "outputs": [
    {
     "data": {
      "text/plain": [
       "Index(['Dur', 'Proto', 'SrcAddr', 'Sport', 'Dir', 'DstAddr', 'Dport', 'State',\n",
       "       'sTos', 'dTos', 'TotPkts', 'TotBytes', 'SrcBytes', 'Label', 'year',\n",
       "       'month', 'day', 'hour', 'minute', 'second', 'dayofweek', 'is_weekend'],\n",
       "      dtype='object')"
      ]
     },
     "execution_count": 28,
     "metadata": {},
     "output_type": "execute_result"
    }
   ],
   "source": [
    "linear_model.columns"
   ]
  },
  {
   "cell_type": "code",
   "execution_count": 29,
   "metadata": {
    "execution": {
     "iopub.execute_input": "2025-08-16T11:48:31.673851Z",
     "iopub.status.busy": "2025-08-16T11:48:31.673651Z",
     "iopub.status.idle": "2025-08-16T11:48:31.685552Z",
     "shell.execute_reply": "2025-08-16T11:48:31.685052Z",
     "shell.execute_reply.started": "2025-08-16T11:48:31.673837Z"
    },
    "trusted": true
   },
   "outputs": [
    {
     "data": {
      "text/plain": [
       "Index(['Dur', 'Proto', 'SrcAddr', 'Sport', 'Dir', 'DstAddr', 'Dport', 'State',\n",
       "       'sTos', 'dTos', 'TotPkts', 'TotBytes', 'SrcBytes', 'year', 'month',\n",
       "       'day', 'hour', 'minute', 'second', 'dayofweek', 'is_weekend'],\n",
       "      dtype='object')"
      ]
     },
     "execution_count": 29,
     "metadata": {},
     "output_type": "execute_result"
    }
   ],
   "source": [
    "dataset.columns"
   ]
  },
  {
   "cell_type": "code",
   "execution_count": 30,
   "metadata": {
    "execution": {
     "iopub.execute_input": "2025-08-16T11:48:31.686469Z",
     "iopub.status.busy": "2025-08-16T11:48:31.686237Z",
     "iopub.status.idle": "2025-08-16T11:48:31.809291Z",
     "shell.execute_reply": "2025-08-16T11:48:31.808494Z",
     "shell.execute_reply.started": "2025-08-16T11:48:31.686455Z"
    },
    "trusted": true
   },
   "outputs": [
    {
     "data": {
      "text/html": [
       "<div>\n",
       "<style scoped>\n",
       "    .dataframe tbody tr th:only-of-type {\n",
       "        vertical-align: middle;\n",
       "    }\n",
       "\n",
       "    .dataframe tbody tr th {\n",
       "        vertical-align: top;\n",
       "    }\n",
       "\n",
       "    .dataframe thead th {\n",
       "        text-align: right;\n",
       "    }\n",
       "</style>\n",
       "<table border=\"1\" class=\"dataframe\">\n",
       "  <thead>\n",
       "    <tr style=\"text-align: right;\">\n",
       "      <th></th>\n",
       "      <th>Dur</th>\n",
       "      <th>Proto</th>\n",
       "      <th>SrcAddr</th>\n",
       "      <th>Sport</th>\n",
       "      <th>Dir</th>\n",
       "      <th>DstAddr</th>\n",
       "      <th>Dport</th>\n",
       "      <th>State</th>\n",
       "      <th>sTos</th>\n",
       "      <th>dTos</th>\n",
       "      <th>...</th>\n",
       "      <th>TotBytes</th>\n",
       "      <th>SrcBytes</th>\n",
       "      <th>year</th>\n",
       "      <th>month</th>\n",
       "      <th>day</th>\n",
       "      <th>hour</th>\n",
       "      <th>minute</th>\n",
       "      <th>second</th>\n",
       "      <th>dayofweek</th>\n",
       "      <th>is_weekend</th>\n",
       "    </tr>\n",
       "  </thead>\n",
       "  <tbody>\n",
       "    <tr>\n",
       "      <th>596</th>\n",
       "      <td>0.000291</td>\n",
       "      <td>3</td>\n",
       "      <td>2</td>\n",
       "      <td>23372</td>\n",
       "      <td>1</td>\n",
       "      <td>1366</td>\n",
       "      <td>752</td>\n",
       "      <td>4</td>\n",
       "      <td>0.0</td>\n",
       "      <td>0.0</td>\n",
       "      <td>...</td>\n",
       "      <td>207</td>\n",
       "      <td>72</td>\n",
       "      <td>2011</td>\n",
       "      <td>8</td>\n",
       "      <td>10</td>\n",
       "      <td>9</td>\n",
       "      <td>46</td>\n",
       "      <td>54</td>\n",
       "      <td>2</td>\n",
       "      <td>0</td>\n",
       "    </tr>\n",
       "    <tr>\n",
       "      <th>597</th>\n",
       "      <td>0.000321</td>\n",
       "      <td>3</td>\n",
       "      <td>2</td>\n",
       "      <td>30772</td>\n",
       "      <td>1</td>\n",
       "      <td>1366</td>\n",
       "      <td>752</td>\n",
       "      <td>4</td>\n",
       "      <td>0.0</td>\n",
       "      <td>0.0</td>\n",
       "      <td>...</td>\n",
       "      <td>247</td>\n",
       "      <td>72</td>\n",
       "      <td>2011</td>\n",
       "      <td>8</td>\n",
       "      <td>10</td>\n",
       "      <td>9</td>\n",
       "      <td>46</td>\n",
       "      <td>54</td>\n",
       "      <td>2</td>\n",
       "      <td>0</td>\n",
       "    </tr>\n",
       "    <tr>\n",
       "      <th>598</th>\n",
       "      <td>0.007678</td>\n",
       "      <td>2</td>\n",
       "      <td>2</td>\n",
       "      <td>28903</td>\n",
       "      <td>2</td>\n",
       "      <td>9130</td>\n",
       "      <td>902</td>\n",
       "      <td>37</td>\n",
       "      <td>0.0</td>\n",
       "      <td>0.0</td>\n",
       "      <td>...</td>\n",
       "      <td>1129</td>\n",
       "      <td>457</td>\n",
       "      <td>2011</td>\n",
       "      <td>8</td>\n",
       "      <td>10</td>\n",
       "      <td>9</td>\n",
       "      <td>46</td>\n",
       "      <td>54</td>\n",
       "      <td>2</td>\n",
       "      <td>0</td>\n",
       "    </tr>\n",
       "    <tr>\n",
       "      <th>1080</th>\n",
       "      <td>3585.430176</td>\n",
       "      <td>2</td>\n",
       "      <td>6</td>\n",
       "      <td>21702</td>\n",
       "      <td>0</td>\n",
       "      <td>7510</td>\n",
       "      <td>665</td>\n",
       "      <td>62</td>\n",
       "      <td>0.0</td>\n",
       "      <td>0.0</td>\n",
       "      <td>...</td>\n",
       "      <td>509187</td>\n",
       "      <td>219986</td>\n",
       "      <td>2011</td>\n",
       "      <td>8</td>\n",
       "      <td>10</td>\n",
       "      <td>9</td>\n",
       "      <td>46</td>\n",
       "      <td>56</td>\n",
       "      <td>2</td>\n",
       "      <td>0</td>\n",
       "    </tr>\n",
       "    <tr>\n",
       "      <th>1269</th>\n",
       "      <td>0.000318</td>\n",
       "      <td>3</td>\n",
       "      <td>2</td>\n",
       "      <td>18733</td>\n",
       "      <td>1</td>\n",
       "      <td>1366</td>\n",
       "      <td>752</td>\n",
       "      <td>4</td>\n",
       "      <td>0.0</td>\n",
       "      <td>0.0</td>\n",
       "      <td>...</td>\n",
       "      <td>207</td>\n",
       "      <td>72</td>\n",
       "      <td>2011</td>\n",
       "      <td>8</td>\n",
       "      <td>10</td>\n",
       "      <td>9</td>\n",
       "      <td>46</td>\n",
       "      <td>57</td>\n",
       "      <td>2</td>\n",
       "      <td>0</td>\n",
       "    </tr>\n",
       "    <tr>\n",
       "      <th>...</th>\n",
       "      <td>...</td>\n",
       "      <td>...</td>\n",
       "      <td>...</td>\n",
       "      <td>...</td>\n",
       "      <td>...</td>\n",
       "      <td>...</td>\n",
       "      <td>...</td>\n",
       "      <td>...</td>\n",
       "      <td>...</td>\n",
       "      <td>...</td>\n",
       "      <td>...</td>\n",
       "      <td>...</td>\n",
       "      <td>...</td>\n",
       "      <td>...</td>\n",
       "      <td>...</td>\n",
       "      <td>...</td>\n",
       "      <td>...</td>\n",
       "      <td>...</td>\n",
       "      <td>...</td>\n",
       "      <td>...</td>\n",
       "      <td>...</td>\n",
       "    </tr>\n",
       "    <tr>\n",
       "      <th>16123493</th>\n",
       "      <td>0.453756</td>\n",
       "      <td>3</td>\n",
       "      <td>15</td>\n",
       "      <td>11330</td>\n",
       "      <td>1</td>\n",
       "      <td>1366</td>\n",
       "      <td>752</td>\n",
       "      <td>4</td>\n",
       "      <td>0.0</td>\n",
       "      <td>0.0</td>\n",
       "      <td>...</td>\n",
       "      <td>274</td>\n",
       "      <td>73</td>\n",
       "      <td>2011</td>\n",
       "      <td>8</td>\n",
       "      <td>17</td>\n",
       "      <td>16</td>\n",
       "      <td>48</td>\n",
       "      <td>47</td>\n",
       "      <td>2</td>\n",
       "      <td>0</td>\n",
       "    </tr>\n",
       "    <tr>\n",
       "      <th>16123494</th>\n",
       "      <td>0.000465</td>\n",
       "      <td>3</td>\n",
       "      <td>15</td>\n",
       "      <td>11320</td>\n",
       "      <td>1</td>\n",
       "      <td>1366</td>\n",
       "      <td>752</td>\n",
       "      <td>4</td>\n",
       "      <td>0.0</td>\n",
       "      <td>0.0</td>\n",
       "      <td>...</td>\n",
       "      <td>394</td>\n",
       "      <td>73</td>\n",
       "      <td>2011</td>\n",
       "      <td>8</td>\n",
       "      <td>17</td>\n",
       "      <td>16</td>\n",
       "      <td>48</td>\n",
       "      <td>47</td>\n",
       "      <td>2</td>\n",
       "      <td>0</td>\n",
       "    </tr>\n",
       "    <tr>\n",
       "      <th>16123496</th>\n",
       "      <td>0.140354</td>\n",
       "      <td>3</td>\n",
       "      <td>10</td>\n",
       "      <td>5039</td>\n",
       "      <td>1</td>\n",
       "      <td>1366</td>\n",
       "      <td>752</td>\n",
       "      <td>4</td>\n",
       "      <td>0.0</td>\n",
       "      <td>0.0</td>\n",
       "      <td>...</td>\n",
       "      <td>246</td>\n",
       "      <td>77</td>\n",
       "      <td>2011</td>\n",
       "      <td>8</td>\n",
       "      <td>17</td>\n",
       "      <td>16</td>\n",
       "      <td>48</td>\n",
       "      <td>47</td>\n",
       "      <td>2</td>\n",
       "      <td>0</td>\n",
       "    </tr>\n",
       "    <tr>\n",
       "      <th>16123499</th>\n",
       "      <td>124.327148</td>\n",
       "      <td>2</td>\n",
       "      <td>7</td>\n",
       "      <td>33538</td>\n",
       "      <td>2</td>\n",
       "      <td>2503</td>\n",
       "      <td>902</td>\n",
       "      <td>37</td>\n",
       "      <td>0.0</td>\n",
       "      <td>0.0</td>\n",
       "      <td>...</td>\n",
       "      <td>7519</td>\n",
       "      <td>733</td>\n",
       "      <td>2011</td>\n",
       "      <td>8</td>\n",
       "      <td>17</td>\n",
       "      <td>16</td>\n",
       "      <td>48</td>\n",
       "      <td>47</td>\n",
       "      <td>2</td>\n",
       "      <td>0</td>\n",
       "    </tr>\n",
       "    <tr>\n",
       "      <th>16123502</th>\n",
       "      <td>0.112746</td>\n",
       "      <td>3</td>\n",
       "      <td>17</td>\n",
       "      <td>27760</td>\n",
       "      <td>1</td>\n",
       "      <td>1366</td>\n",
       "      <td>752</td>\n",
       "      <td>4</td>\n",
       "      <td>0.0</td>\n",
       "      <td>0.0</td>\n",
       "      <td>...</td>\n",
       "      <td>339</td>\n",
       "      <td>84</td>\n",
       "      <td>2011</td>\n",
       "      <td>8</td>\n",
       "      <td>17</td>\n",
       "      <td>16</td>\n",
       "      <td>48</td>\n",
       "      <td>47</td>\n",
       "      <td>2</td>\n",
       "      <td>0</td>\n",
       "    </tr>\n",
       "  </tbody>\n",
       "</table>\n",
       "<p>451032 rows × 21 columns</p>\n",
       "</div>"
      ],
      "text/plain": [
       "                  Dur  Proto  SrcAddr  Sport  Dir  DstAddr  Dport  State  \\\n",
       "596          0.000291      3        2  23372    1     1366    752      4   \n",
       "597          0.000321      3        2  30772    1     1366    752      4   \n",
       "598          0.007678      2        2  28903    2     9130    902     37   \n",
       "1080      3585.430176      2        6  21702    0     7510    665     62   \n",
       "1269         0.000318      3        2  18733    1     1366    752      4   \n",
       "...               ...    ...      ...    ...  ...      ...    ...    ...   \n",
       "16123493     0.453756      3       15  11330    1     1366    752      4   \n",
       "16123494     0.000465      3       15  11320    1     1366    752      4   \n",
       "16123496     0.140354      3       10   5039    1     1366    752      4   \n",
       "16123499   124.327148      2        7  33538    2     2503    902     37   \n",
       "16123502     0.112746      3       17  27760    1     1366    752      4   \n",
       "\n",
       "          sTos  dTos  ...  TotBytes  SrcBytes  year  month  day  hour  minute  \\\n",
       "596        0.0   0.0  ...       207        72  2011      8   10     9      46   \n",
       "597        0.0   0.0  ...       247        72  2011      8   10     9      46   \n",
       "598        0.0   0.0  ...      1129       457  2011      8   10     9      46   \n",
       "1080       0.0   0.0  ...    509187    219986  2011      8   10     9      46   \n",
       "1269       0.0   0.0  ...       207        72  2011      8   10     9      46   \n",
       "...        ...   ...  ...       ...       ...   ...    ...  ...   ...     ...   \n",
       "16123493   0.0   0.0  ...       274        73  2011      8   17    16      48   \n",
       "16123494   0.0   0.0  ...       394        73  2011      8   17    16      48   \n",
       "16123496   0.0   0.0  ...       246        77  2011      8   17    16      48   \n",
       "16123499   0.0   0.0  ...      7519       733  2011      8   17    16      48   \n",
       "16123502   0.0   0.0  ...       339        84  2011      8   17    16      48   \n",
       "\n",
       "          second  dayofweek  is_weekend  \n",
       "596           54          2           0  \n",
       "597           54          2           0  \n",
       "598           54          2           0  \n",
       "1080          56          2           0  \n",
       "1269          57          2           0  \n",
       "...          ...        ...         ...  \n",
       "16123493      47          2           0  \n",
       "16123494      47          2           0  \n",
       "16123496      47          2           0  \n",
       "16123499      47          2           0  \n",
       "16123502      47          2           0  \n",
       "\n",
       "[451032 rows x 21 columns]"
      ]
     },
     "execution_count": 30,
     "metadata": {},
     "output_type": "execute_result"
    }
   ],
   "source": [
    "dataset"
   ]
  },
  {
   "cell_type": "markdown",
   "metadata": {},
   "source": [
    "## Data augmentation module"
   ]
  },
  {
   "cell_type": "markdown",
   "metadata": {},
   "source": [
    "since here we are working with rows in a tabular data , in this case from the ctu13 dataset\n",
    "\n",
    "The task is to create two different but semantically simliar verisons of the same og flow\n",
    "\n",
    "Two altered versions from the og flow"
   ]
  },
  {
   "cell_type": "code",
   "execution_count": null,
   "metadata": {
    "trusted": true
   },
   "outputs": [],
   "source": [
    "augmented1 = dataset.copy()\n",
    "nbrows=len(augmented1)"
   ]
  },
  {
   "cell_type": "code",
   "execution_count": null,
   "metadata": {
    "trusted": true
   },
   "outputs": [],
   "source": [
    "# set random features to mean val ==feature masking\n",
    "maskrate=0.1 # for each eature we want to mask 10% of the rows\n",
    "for col in augmented1.columns:\n",
    "    meanval=augmented1[col].mean()\n",
    "    maskindexes=rand.sample(range(nbrows),int(maskrate*nbrows))\n",
    "    augmented1.loc[maskindexes,col]=meanval"
   ]
  },
  {
   "cell_type": "code",
   "execution_count": null,
   "metadata": {
    "trusted": true
   },
   "outputs": [],
   "source": [
    "#add gaussian noise\n",
    "for i in range(0,nbrows):\n",
    "    noise=np.random.normal(0, 0.1, augmented1[i].shape)\n",
    "    augmented1[i]+=noise"
   ]
  },
  {
   "cell_type": "markdown",
   "metadata": {
    "_cell_guid": "b1076dfc-b9ad-4769-8c92-a6c4dae69d19",
    "_uuid": "8f2839f25d086af736a60e9eeb907d3b93b6e0e5"
   },
   "source": [
    "must be applied to all rows , mean0 and std 0.1"
   ]
  },
  {
   "cell_type": "code",
   "execution_count": null,
   "metadata": {
    "trusted": true
   },
   "outputs": [],
   "source": [
    "#Feature dropping\n",
    "for col in augmented2.columns:\n",
    "    dropindexes=rand.sample(range(nbrows),int(maskrate*nbrows))\n",
    "    augmented2.loc[dropindexes,col]=None"
   ]
  },
  {
   "cell_type": "markdown",
   "metadata": {},
   "source": [
    "### For SimCLR-style training, both views (versions) should be augmented versions of the same original sample , the concept is the model sees two different views of the same data so we will create augmented2 that do other alterations "
   ]
  },
  {
   "cell_type": "code",
   "execution_count": null,
   "metadata": {
    "trusted": true
   },
   "outputs": [],
   "source": [
    "augmented2=dataset.copy()"
   ]
  },
  {
   "cell_type": "code",
   "execution_count": null,
   "metadata": {
    "trusted": true
   },
   "outputs": [],
   "source": [
    "import numpy as np"
   ]
  },
  {
   "cell_type": "code",
   "execution_count": 31,
   "metadata": {
    "execution": {
     "iopub.execute_input": "2025-08-16T11:48:31.810212Z",
     "iopub.status.busy": "2025-08-16T11:48:31.810024Z",
     "iopub.status.idle": "2025-08-16T11:48:31.815198Z",
     "shell.execute_reply": "2025-08-16T11:48:31.814542Z",
     "shell.execute_reply.started": "2025-08-16T11:48:31.810197Z"
    },
    "trusted": true
   },
   "outputs": [],
   "source": [
    "def augment_dataset(dataset,maskrate,noisestd,droprate):\n",
    "     augmented = dataset.copy()\n",
    "     nbrows=len(augmented)\n",
    "    #feature masking\n",
    "     for col in augmented.columns:\n",
    "         meanval=augmented[col].mean()\n",
    "         maskindexes=rand.sample(list(augmented.index), int(maskrate * nbrows))\n",
    "         augmented.loc[maskindexes,col]=meanval\n",
    "    #noise\n",
    "     noise=np.random.normal(0,noisestd,augmented.shape)\n",
    "     augmented+=noise\n",
    "    #feature dropping\n",
    "     \"\"\"for col in augmented.columns:\n",
    "         dropindex=rand.sample(list(augmented.index),int(droprate*nbrows))\n",
    "         augmented.loc[dropindex,col]=np.nan\"\"\"\n",
    "     return augmented\n",
    "\n",
    "    "
   ]
  },
  {
   "cell_type": "code",
   "execution_count": 32,
   "metadata": {
    "execution": {
     "iopub.execute_input": "2025-08-16T11:48:31.816156Z",
     "iopub.status.busy": "2025-08-16T11:48:31.815895Z",
     "iopub.status.idle": "2025-08-16T11:48:33.692064Z",
     "shell.execute_reply": "2025-08-16T11:48:33.691289Z",
     "shell.execute_reply.started": "2025-08-16T11:48:31.816134Z"
    },
    "trusted": true
   },
   "outputs": [
    {
     "name": "stderr",
     "output_type": "stream",
     "text": [
      "/tmp/ipykernel_36/1180384435.py:8: FutureWarning: Setting an item of incompatible dtype is deprecated and will raise an error in a future version of pandas. Value '2.687099806665602' has dtype incompatible with int64, please explicitly cast to a compatible dtype first.\n",
      "  augmented.loc[maskindexes,col]=meanval\n",
      "/tmp/ipykernel_36/1180384435.py:8: FutureWarning: Setting an item of incompatible dtype is deprecated and will raise an error in a future version of pandas. Value '8.84473607194168' has dtype incompatible with int64, please explicitly cast to a compatible dtype first.\n",
      "  augmented.loc[maskindexes,col]=meanval\n",
      "/tmp/ipykernel_36/1180384435.py:8: FutureWarning: Setting an item of incompatible dtype is deprecated and will raise an error in a future version of pandas. Value '22898.525774224447' has dtype incompatible with int64, please explicitly cast to a compatible dtype first.\n",
      "  augmented.loc[maskindexes,col]=meanval\n",
      "/tmp/ipykernel_36/1180384435.py:8: FutureWarning: Setting an item of incompatible dtype is deprecated and will raise an error in a future version of pandas. Value '1.3110111921105376' has dtype incompatible with int64, please explicitly cast to a compatible dtype first.\n",
      "  augmented.loc[maskindexes,col]=meanval\n",
      "/tmp/ipykernel_36/1180384435.py:8: FutureWarning: Setting an item of incompatible dtype is deprecated and will raise an error in a future version of pandas. Value '2652.447289771014' has dtype incompatible with int64, please explicitly cast to a compatible dtype first.\n",
      "  augmented.loc[maskindexes,col]=meanval\n",
      "/tmp/ipykernel_36/1180384435.py:8: FutureWarning: Setting an item of incompatible dtype is deprecated and will raise an error in a future version of pandas. Value '772.0665141276007' has dtype incompatible with int64, please explicitly cast to a compatible dtype first.\n",
      "  augmented.loc[maskindexes,col]=meanval\n",
      "/tmp/ipykernel_36/1180384435.py:8: FutureWarning: Setting an item of incompatible dtype is deprecated and will raise an error in a future version of pandas. Value '17.498490129303462' has dtype incompatible with int64, please explicitly cast to a compatible dtype first.\n",
      "  augmented.loc[maskindexes,col]=meanval\n",
      "/tmp/ipykernel_36/1180384435.py:8: FutureWarning: Setting an item of incompatible dtype is deprecated and will raise an error in a future version of pandas. Value '18.435004611646182' has dtype incompatible with int64, please explicitly cast to a compatible dtype first.\n",
      "  augmented.loc[maskindexes,col]=meanval\n",
      "/tmp/ipykernel_36/1180384435.py:8: FutureWarning: Setting an item of incompatible dtype is deprecated and will raise an error in a future version of pandas. Value '13542.311170826017' has dtype incompatible with int64, please explicitly cast to a compatible dtype first.\n",
      "  augmented.loc[maskindexes,col]=meanval\n",
      "/tmp/ipykernel_36/1180384435.py:8: FutureWarning: Setting an item of incompatible dtype is deprecated and will raise an error in a future version of pandas. Value '1783.3847243654552' has dtype incompatible with int64, please explicitly cast to a compatible dtype first.\n",
      "  augmented.loc[maskindexes,col]=meanval\n",
      "/tmp/ipykernel_36/1180384435.py:8: FutureWarning: Setting an item of incompatible dtype is deprecated and will raise an error in a future version of pandas. Value '14.708501835789923' has dtype incompatible with int32, please explicitly cast to a compatible dtype first.\n",
      "  augmented.loc[maskindexes,col]=meanval\n",
      "/tmp/ipykernel_36/1180384435.py:8: FutureWarning: Setting an item of incompatible dtype is deprecated and will raise an error in a future version of pandas. Value '13.274947232125436' has dtype incompatible with int32, please explicitly cast to a compatible dtype first.\n",
      "  augmented.loc[maskindexes,col]=meanval\n",
      "/tmp/ipykernel_36/1180384435.py:8: FutureWarning: Setting an item of incompatible dtype is deprecated and will raise an error in a future version of pandas. Value '28.988756895297893' has dtype incompatible with int32, please explicitly cast to a compatible dtype first.\n",
      "  augmented.loc[maskindexes,col]=meanval\n",
      "/tmp/ipykernel_36/1180384435.py:8: FutureWarning: Setting an item of incompatible dtype is deprecated and will raise an error in a future version of pandas. Value '29.274612444349845' has dtype incompatible with int32, please explicitly cast to a compatible dtype first.\n",
      "  augmented.loc[maskindexes,col]=meanval\n",
      "/tmp/ipykernel_36/1180384435.py:8: FutureWarning: Setting an item of incompatible dtype is deprecated and will raise an error in a future version of pandas. Value '2.3427672537646997' has dtype incompatible with int32, please explicitly cast to a compatible dtype first.\n",
      "  augmented.loc[maskindexes,col]=meanval\n",
      "/tmp/ipykernel_36/1180384435.py:8: FutureWarning: Setting an item of incompatible dtype is deprecated and will raise an error in a future version of pandas. Value '0.17803614821121339' has dtype incompatible with int64, please explicitly cast to a compatible dtype first.\n",
      "  augmented.loc[maskindexes,col]=meanval\n"
     ]
    }
   ],
   "source": [
    "augmented1 = augment_dataset(dataset, maskrate=0.1, noisestd=0.1, droprate=0)\n"
   ]
  },
  {
   "cell_type": "code",
   "execution_count": 33,
   "metadata": {
    "execution": {
     "iopub.execute_input": "2025-08-16T11:48:33.692986Z",
     "iopub.status.busy": "2025-08-16T11:48:33.692804Z",
     "iopub.status.idle": "2025-08-16T11:48:33.854715Z",
     "shell.execute_reply": "2025-08-16T11:48:33.854059Z",
     "shell.execute_reply.started": "2025-08-16T11:48:33.692972Z"
    },
    "trusted": true
   },
   "outputs": [
    {
     "data": {
      "text/html": [
       "<div>\n",
       "<style scoped>\n",
       "    .dataframe tbody tr th:only-of-type {\n",
       "        vertical-align: middle;\n",
       "    }\n",
       "\n",
       "    .dataframe tbody tr th {\n",
       "        vertical-align: top;\n",
       "    }\n",
       "\n",
       "    .dataframe thead th {\n",
       "        text-align: right;\n",
       "    }\n",
       "</style>\n",
       "<table border=\"1\" class=\"dataframe\">\n",
       "  <thead>\n",
       "    <tr style=\"text-align: right;\">\n",
       "      <th></th>\n",
       "      <th>Dur</th>\n",
       "      <th>Proto</th>\n",
       "      <th>SrcAddr</th>\n",
       "      <th>Sport</th>\n",
       "      <th>Dir</th>\n",
       "      <th>DstAddr</th>\n",
       "      <th>Dport</th>\n",
       "      <th>State</th>\n",
       "      <th>sTos</th>\n",
       "      <th>dTos</th>\n",
       "      <th>...</th>\n",
       "      <th>TotBytes</th>\n",
       "      <th>SrcBytes</th>\n",
       "      <th>year</th>\n",
       "      <th>month</th>\n",
       "      <th>day</th>\n",
       "      <th>hour</th>\n",
       "      <th>minute</th>\n",
       "      <th>second</th>\n",
       "      <th>dayofweek</th>\n",
       "      <th>is_weekend</th>\n",
       "    </tr>\n",
       "  </thead>\n",
       "  <tbody>\n",
       "    <tr>\n",
       "      <th>596</th>\n",
       "      <td>-0.056043</td>\n",
       "      <td>3.055470</td>\n",
       "      <td>2.206867</td>\n",
       "      <td>23372.036321</td>\n",
       "      <td>0.730208</td>\n",
       "      <td>2652.319078</td>\n",
       "      <td>752.029289</td>\n",
       "      <td>3.937152</td>\n",
       "      <td>0.071304</td>\n",
       "      <td>-0.022586</td>\n",
       "      <td>...</td>\n",
       "      <td>206.958620</td>\n",
       "      <td>72.036475</td>\n",
       "      <td>2010.970417</td>\n",
       "      <td>7.943518</td>\n",
       "      <td>10.030266</td>\n",
       "      <td>9.027731</td>\n",
       "      <td>45.910215</td>\n",
       "      <td>53.894109</td>\n",
       "      <td>2.085421</td>\n",
       "      <td>0.122742</td>\n",
       "    </tr>\n",
       "    <tr>\n",
       "      <th>597</th>\n",
       "      <td>0.246827</td>\n",
       "      <td>2.810577</td>\n",
       "      <td>8.808057</td>\n",
       "      <td>30771.732071</td>\n",
       "      <td>1.189592</td>\n",
       "      <td>1366.106159</td>\n",
       "      <td>752.045051</td>\n",
       "      <td>4.068776</td>\n",
       "      <td>-0.126208</td>\n",
       "      <td>0.025849</td>\n",
       "      <td>...</td>\n",
       "      <td>247.085734</td>\n",
       "      <td>71.990532</td>\n",
       "      <td>2011.011093</td>\n",
       "      <td>7.860659</td>\n",
       "      <td>10.079607</td>\n",
       "      <td>8.925192</td>\n",
       "      <td>45.913404</td>\n",
       "      <td>54.163410</td>\n",
       "      <td>1.981382</td>\n",
       "      <td>-0.089223</td>\n",
       "    </tr>\n",
       "    <tr>\n",
       "      <th>598</th>\n",
       "      <td>0.006127</td>\n",
       "      <td>2.099980</td>\n",
       "      <td>2.074366</td>\n",
       "      <td>28902.964108</td>\n",
       "      <td>1.336987</td>\n",
       "      <td>9130.053857</td>\n",
       "      <td>901.919363</td>\n",
       "      <td>37.013094</td>\n",
       "      <td>0.069937</td>\n",
       "      <td>-0.122148</td>\n",
       "      <td>...</td>\n",
       "      <td>1129.110299</td>\n",
       "      <td>456.931496</td>\n",
       "      <td>2010.801718</td>\n",
       "      <td>8.052058</td>\n",
       "      <td>10.037998</td>\n",
       "      <td>13.419095</td>\n",
       "      <td>45.911184</td>\n",
       "      <td>54.126565</td>\n",
       "      <td>1.971621</td>\n",
       "      <td>0.061325</td>\n",
       "    </tr>\n",
       "    <tr>\n",
       "      <th>1080</th>\n",
       "      <td>3585.495918</td>\n",
       "      <td>2.214296</td>\n",
       "      <td>6.035004</td>\n",
       "      <td>21702.080500</td>\n",
       "      <td>-0.138863</td>\n",
       "      <td>7509.896480</td>\n",
       "      <td>665.156491</td>\n",
       "      <td>62.074909</td>\n",
       "      <td>0.050984</td>\n",
       "      <td>-0.153234</td>\n",
       "      <td>...</td>\n",
       "      <td>509186.869611</td>\n",
       "      <td>219986.060031</td>\n",
       "      <td>2010.958553</td>\n",
       "      <td>8.095231</td>\n",
       "      <td>9.896014</td>\n",
       "      <td>9.069727</td>\n",
       "      <td>45.889059</td>\n",
       "      <td>55.916231</td>\n",
       "      <td>2.005165</td>\n",
       "      <td>-0.071901</td>\n",
       "    </tr>\n",
       "    <tr>\n",
       "      <th>1269</th>\n",
       "      <td>-0.029892</td>\n",
       "      <td>2.706648</td>\n",
       "      <td>8.858157</td>\n",
       "      <td>18733.080155</td>\n",
       "      <td>0.853658</td>\n",
       "      <td>1365.947978</td>\n",
       "      <td>751.956388</td>\n",
       "      <td>3.991726</td>\n",
       "      <td>-0.072392</td>\n",
       "      <td>-0.066707</td>\n",
       "      <td>...</td>\n",
       "      <td>206.950474</td>\n",
       "      <td>72.196326</td>\n",
       "      <td>2010.969474</td>\n",
       "      <td>8.035576</td>\n",
       "      <td>9.892865</td>\n",
       "      <td>9.049450</td>\n",
       "      <td>45.985238</td>\n",
       "      <td>57.131805</td>\n",
       "      <td>1.944175</td>\n",
       "      <td>0.105504</td>\n",
       "    </tr>\n",
       "    <tr>\n",
       "      <th>...</th>\n",
       "      <td>...</td>\n",
       "      <td>...</td>\n",
       "      <td>...</td>\n",
       "      <td>...</td>\n",
       "      <td>...</td>\n",
       "      <td>...</td>\n",
       "      <td>...</td>\n",
       "      <td>...</td>\n",
       "      <td>...</td>\n",
       "      <td>...</td>\n",
       "      <td>...</td>\n",
       "      <td>...</td>\n",
       "      <td>...</td>\n",
       "      <td>...</td>\n",
       "      <td>...</td>\n",
       "      <td>...</td>\n",
       "      <td>...</td>\n",
       "      <td>...</td>\n",
       "      <td>...</td>\n",
       "      <td>...</td>\n",
       "      <td>...</td>\n",
       "    </tr>\n",
       "    <tr>\n",
       "      <th>16123493</th>\n",
       "      <td>0.493058</td>\n",
       "      <td>3.090331</td>\n",
       "      <td>8.976516</td>\n",
       "      <td>11329.901761</td>\n",
       "      <td>1.292325</td>\n",
       "      <td>1365.850975</td>\n",
       "      <td>772.154995</td>\n",
       "      <td>4.006896</td>\n",
       "      <td>0.049794</td>\n",
       "      <td>-0.076875</td>\n",
       "      <td>...</td>\n",
       "      <td>13542.406410</td>\n",
       "      <td>72.860647</td>\n",
       "      <td>2011.002735</td>\n",
       "      <td>8.051521</td>\n",
       "      <td>16.885862</td>\n",
       "      <td>15.890759</td>\n",
       "      <td>47.989948</td>\n",
       "      <td>46.867800</td>\n",
       "      <td>1.947492</td>\n",
       "      <td>0.364655</td>\n",
       "    </tr>\n",
       "    <tr>\n",
       "      <th>16123494</th>\n",
       "      <td>-0.025360</td>\n",
       "      <td>3.033929</td>\n",
       "      <td>15.076222</td>\n",
       "      <td>11319.952682</td>\n",
       "      <td>0.859379</td>\n",
       "      <td>1366.186071</td>\n",
       "      <td>751.892379</td>\n",
       "      <td>4.067149</td>\n",
       "      <td>-0.097371</td>\n",
       "      <td>-0.077113</td>\n",
       "      <td>...</td>\n",
       "      <td>394.256220</td>\n",
       "      <td>1783.441329</td>\n",
       "      <td>2011.086883</td>\n",
       "      <td>7.960079</td>\n",
       "      <td>16.980798</td>\n",
       "      <td>16.028659</td>\n",
       "      <td>28.726523</td>\n",
       "      <td>47.133039</td>\n",
       "      <td>2.404429</td>\n",
       "      <td>0.008372</td>\n",
       "    </tr>\n",
       "    <tr>\n",
       "      <th>16123496</th>\n",
       "      <td>-0.044345</td>\n",
       "      <td>3.014969</td>\n",
       "      <td>8.955661</td>\n",
       "      <td>5038.786797</td>\n",
       "      <td>1.045429</td>\n",
       "      <td>1366.050931</td>\n",
       "      <td>751.941707</td>\n",
       "      <td>3.878404</td>\n",
       "      <td>0.188913</td>\n",
       "      <td>0.010263</td>\n",
       "      <td>...</td>\n",
       "      <td>246.017383</td>\n",
       "      <td>77.030546</td>\n",
       "      <td>2011.028623</td>\n",
       "      <td>8.007716</td>\n",
       "      <td>16.963190</td>\n",
       "      <td>13.131696</td>\n",
       "      <td>47.982752</td>\n",
       "      <td>47.112391</td>\n",
       "      <td>1.940738</td>\n",
       "      <td>0.081698</td>\n",
       "    </tr>\n",
       "    <tr>\n",
       "      <th>16123499</th>\n",
       "      <td>124.107073</td>\n",
       "      <td>1.966222</td>\n",
       "      <td>6.960711</td>\n",
       "      <td>22898.413329</td>\n",
       "      <td>2.019077</td>\n",
       "      <td>2502.947568</td>\n",
       "      <td>901.801248</td>\n",
       "      <td>37.128673</td>\n",
       "      <td>0.069636</td>\n",
       "      <td>-0.017601</td>\n",
       "      <td>...</td>\n",
       "      <td>7519.048854</td>\n",
       "      <td>1783.481461</td>\n",
       "      <td>2010.952506</td>\n",
       "      <td>7.994147</td>\n",
       "      <td>17.193424</td>\n",
       "      <td>15.942844</td>\n",
       "      <td>48.037815</td>\n",
       "      <td>46.842989</td>\n",
       "      <td>1.942501</td>\n",
       "      <td>0.174298</td>\n",
       "    </tr>\n",
       "    <tr>\n",
       "      <th>16123502</th>\n",
       "      <td>0.146966</td>\n",
       "      <td>3.209030</td>\n",
       "      <td>16.925866</td>\n",
       "      <td>27760.056108</td>\n",
       "      <td>1.116049</td>\n",
       "      <td>1366.062686</td>\n",
       "      <td>752.053742</td>\n",
       "      <td>17.626557</td>\n",
       "      <td>0.005822</td>\n",
       "      <td>0.103313</td>\n",
       "      <td>...</td>\n",
       "      <td>13542.383001</td>\n",
       "      <td>84.144813</td>\n",
       "      <td>2011.029913</td>\n",
       "      <td>7.927645</td>\n",
       "      <td>17.107258</td>\n",
       "      <td>15.969496</td>\n",
       "      <td>47.826741</td>\n",
       "      <td>47.102842</td>\n",
       "      <td>2.292676</td>\n",
       "      <td>-0.059084</td>\n",
       "    </tr>\n",
       "  </tbody>\n",
       "</table>\n",
       "<p>451032 rows × 21 columns</p>\n",
       "</div>"
      ],
      "text/plain": [
       "                  Dur     Proto    SrcAddr         Sport       Dir  \\\n",
       "596         -0.056043  3.055470   2.206867  23372.036321  0.730208   \n",
       "597          0.246827  2.810577   8.808057  30771.732071  1.189592   \n",
       "598          0.006127  2.099980   2.074366  28902.964108  1.336987   \n",
       "1080      3585.495918  2.214296   6.035004  21702.080500 -0.138863   \n",
       "1269        -0.029892  2.706648   8.858157  18733.080155  0.853658   \n",
       "...               ...       ...        ...           ...       ...   \n",
       "16123493     0.493058  3.090331   8.976516  11329.901761  1.292325   \n",
       "16123494    -0.025360  3.033929  15.076222  11319.952682  0.859379   \n",
       "16123496    -0.044345  3.014969   8.955661   5038.786797  1.045429   \n",
       "16123499   124.107073  1.966222   6.960711  22898.413329  2.019077   \n",
       "16123502     0.146966  3.209030  16.925866  27760.056108  1.116049   \n",
       "\n",
       "              DstAddr       Dport      State      sTos      dTos  ...  \\\n",
       "596       2652.319078  752.029289   3.937152  0.071304 -0.022586  ...   \n",
       "597       1366.106159  752.045051   4.068776 -0.126208  0.025849  ...   \n",
       "598       9130.053857  901.919363  37.013094  0.069937 -0.122148  ...   \n",
       "1080      7509.896480  665.156491  62.074909  0.050984 -0.153234  ...   \n",
       "1269      1365.947978  751.956388   3.991726 -0.072392 -0.066707  ...   \n",
       "...               ...         ...        ...       ...       ...  ...   \n",
       "16123493  1365.850975  772.154995   4.006896  0.049794 -0.076875  ...   \n",
       "16123494  1366.186071  751.892379   4.067149 -0.097371 -0.077113  ...   \n",
       "16123496  1366.050931  751.941707   3.878404  0.188913  0.010263  ...   \n",
       "16123499  2502.947568  901.801248  37.128673  0.069636 -0.017601  ...   \n",
       "16123502  1366.062686  752.053742  17.626557  0.005822  0.103313  ...   \n",
       "\n",
       "               TotBytes       SrcBytes         year     month        day  \\\n",
       "596          206.958620      72.036475  2010.970417  7.943518  10.030266   \n",
       "597          247.085734      71.990532  2011.011093  7.860659  10.079607   \n",
       "598         1129.110299     456.931496  2010.801718  8.052058  10.037998   \n",
       "1080      509186.869611  219986.060031  2010.958553  8.095231   9.896014   \n",
       "1269         206.950474      72.196326  2010.969474  8.035576   9.892865   \n",
       "...                 ...            ...          ...       ...        ...   \n",
       "16123493   13542.406410      72.860647  2011.002735  8.051521  16.885862   \n",
       "16123494     394.256220    1783.441329  2011.086883  7.960079  16.980798   \n",
       "16123496     246.017383      77.030546  2011.028623  8.007716  16.963190   \n",
       "16123499    7519.048854    1783.481461  2010.952506  7.994147  17.193424   \n",
       "16123502   13542.383001      84.144813  2011.029913  7.927645  17.107258   \n",
       "\n",
       "               hour     minute     second  dayofweek  is_weekend  \n",
       "596        9.027731  45.910215  53.894109   2.085421    0.122742  \n",
       "597        8.925192  45.913404  54.163410   1.981382   -0.089223  \n",
       "598       13.419095  45.911184  54.126565   1.971621    0.061325  \n",
       "1080       9.069727  45.889059  55.916231   2.005165   -0.071901  \n",
       "1269       9.049450  45.985238  57.131805   1.944175    0.105504  \n",
       "...             ...        ...        ...        ...         ...  \n",
       "16123493  15.890759  47.989948  46.867800   1.947492    0.364655  \n",
       "16123494  16.028659  28.726523  47.133039   2.404429    0.008372  \n",
       "16123496  13.131696  47.982752  47.112391   1.940738    0.081698  \n",
       "16123499  15.942844  48.037815  46.842989   1.942501    0.174298  \n",
       "16123502  15.969496  47.826741  47.102842   2.292676   -0.059084  \n",
       "\n",
       "[451032 rows x 21 columns]"
      ]
     },
     "execution_count": 33,
     "metadata": {},
     "output_type": "execute_result"
    }
   ],
   "source": [
    "augmented1"
   ]
  },
  {
   "cell_type": "code",
   "execution_count": 34,
   "metadata": {
    "execution": {
     "iopub.execute_input": "2025-08-16T11:48:33.856218Z",
     "iopub.status.busy": "2025-08-16T11:48:33.855946Z",
     "iopub.status.idle": "2025-08-16T11:48:35.728835Z",
     "shell.execute_reply": "2025-08-16T11:48:35.728239Z",
     "shell.execute_reply.started": "2025-08-16T11:48:33.856198Z"
    },
    "trusted": true
   },
   "outputs": [
    {
     "name": "stderr",
     "output_type": "stream",
     "text": [
      "/tmp/ipykernel_36/1180384435.py:8: FutureWarning: Setting an item of incompatible dtype is deprecated and will raise an error in a future version of pandas. Value '2.687099806665602' has dtype incompatible with int64, please explicitly cast to a compatible dtype first.\n",
      "  augmented.loc[maskindexes,col]=meanval\n",
      "/tmp/ipykernel_36/1180384435.py:8: FutureWarning: Setting an item of incompatible dtype is deprecated and will raise an error in a future version of pandas. Value '8.84473607194168' has dtype incompatible with int64, please explicitly cast to a compatible dtype first.\n",
      "  augmented.loc[maskindexes,col]=meanval\n",
      "/tmp/ipykernel_36/1180384435.py:8: FutureWarning: Setting an item of incompatible dtype is deprecated and will raise an error in a future version of pandas. Value '22898.525774224447' has dtype incompatible with int64, please explicitly cast to a compatible dtype first.\n",
      "  augmented.loc[maskindexes,col]=meanval\n",
      "/tmp/ipykernel_36/1180384435.py:8: FutureWarning: Setting an item of incompatible dtype is deprecated and will raise an error in a future version of pandas. Value '1.3110111921105376' has dtype incompatible with int64, please explicitly cast to a compatible dtype first.\n",
      "  augmented.loc[maskindexes,col]=meanval\n",
      "/tmp/ipykernel_36/1180384435.py:8: FutureWarning: Setting an item of incompatible dtype is deprecated and will raise an error in a future version of pandas. Value '2652.447289771014' has dtype incompatible with int64, please explicitly cast to a compatible dtype first.\n",
      "  augmented.loc[maskindexes,col]=meanval\n",
      "/tmp/ipykernel_36/1180384435.py:8: FutureWarning: Setting an item of incompatible dtype is deprecated and will raise an error in a future version of pandas. Value '772.0665141276007' has dtype incompatible with int64, please explicitly cast to a compatible dtype first.\n",
      "  augmented.loc[maskindexes,col]=meanval\n",
      "/tmp/ipykernel_36/1180384435.py:8: FutureWarning: Setting an item of incompatible dtype is deprecated and will raise an error in a future version of pandas. Value '17.498490129303462' has dtype incompatible with int64, please explicitly cast to a compatible dtype first.\n",
      "  augmented.loc[maskindexes,col]=meanval\n",
      "/tmp/ipykernel_36/1180384435.py:8: FutureWarning: Setting an item of incompatible dtype is deprecated and will raise an error in a future version of pandas. Value '18.435004611646182' has dtype incompatible with int64, please explicitly cast to a compatible dtype first.\n",
      "  augmented.loc[maskindexes,col]=meanval\n",
      "/tmp/ipykernel_36/1180384435.py:8: FutureWarning: Setting an item of incompatible dtype is deprecated and will raise an error in a future version of pandas. Value '13542.311170826017' has dtype incompatible with int64, please explicitly cast to a compatible dtype first.\n",
      "  augmented.loc[maskindexes,col]=meanval\n",
      "/tmp/ipykernel_36/1180384435.py:8: FutureWarning: Setting an item of incompatible dtype is deprecated and will raise an error in a future version of pandas. Value '1783.3847243654552' has dtype incompatible with int64, please explicitly cast to a compatible dtype first.\n",
      "  augmented.loc[maskindexes,col]=meanval\n",
      "/tmp/ipykernel_36/1180384435.py:8: FutureWarning: Setting an item of incompatible dtype is deprecated and will raise an error in a future version of pandas. Value '14.708501835789923' has dtype incompatible with int32, please explicitly cast to a compatible dtype first.\n",
      "  augmented.loc[maskindexes,col]=meanval\n",
      "/tmp/ipykernel_36/1180384435.py:8: FutureWarning: Setting an item of incompatible dtype is deprecated and will raise an error in a future version of pandas. Value '13.274947232125436' has dtype incompatible with int32, please explicitly cast to a compatible dtype first.\n",
      "  augmented.loc[maskindexes,col]=meanval\n",
      "/tmp/ipykernel_36/1180384435.py:8: FutureWarning: Setting an item of incompatible dtype is deprecated and will raise an error in a future version of pandas. Value '28.988756895297893' has dtype incompatible with int32, please explicitly cast to a compatible dtype first.\n",
      "  augmented.loc[maskindexes,col]=meanval\n",
      "/tmp/ipykernel_36/1180384435.py:8: FutureWarning: Setting an item of incompatible dtype is deprecated and will raise an error in a future version of pandas. Value '29.274612444349845' has dtype incompatible with int32, please explicitly cast to a compatible dtype first.\n",
      "  augmented.loc[maskindexes,col]=meanval\n",
      "/tmp/ipykernel_36/1180384435.py:8: FutureWarning: Setting an item of incompatible dtype is deprecated and will raise an error in a future version of pandas. Value '2.3427672537646997' has dtype incompatible with int32, please explicitly cast to a compatible dtype first.\n",
      "  augmented.loc[maskindexes,col]=meanval\n",
      "/tmp/ipykernel_36/1180384435.py:8: FutureWarning: Setting an item of incompatible dtype is deprecated and will raise an error in a future version of pandas. Value '0.17803614821121339' has dtype incompatible with int64, please explicitly cast to a compatible dtype first.\n",
      "  augmented.loc[maskindexes,col]=meanval\n"
     ]
    }
   ],
   "source": [
    "augmented2 = augment_dataset(dataset, maskrate=0.11, noisestd=0.12, droprate=0.1)\n"
   ]
  },
  {
   "cell_type": "code",
   "execution_count": 35,
   "metadata": {
    "execution": {
     "iopub.execute_input": "2025-08-16T11:48:35.729821Z",
     "iopub.status.busy": "2025-08-16T11:48:35.729623Z",
     "iopub.status.idle": "2025-08-16T11:48:35.793079Z",
     "shell.execute_reply": "2025-08-16T11:48:35.792500Z",
     "shell.execute_reply.started": "2025-08-16T11:48:35.729806Z"
    },
    "trusted": true
   },
   "outputs": [
    {
     "name": "stdout",
     "output_type": "stream",
     "text": [
      "Dur           0\n",
      "Proto         0\n",
      "SrcAddr       0\n",
      "Sport         0\n",
      "Dir           0\n",
      "DstAddr       0\n",
      "Dport         0\n",
      "State         0\n",
      "sTos          0\n",
      "dTos          0\n",
      "TotPkts       0\n",
      "TotBytes      0\n",
      "SrcBytes      0\n",
      "year          0\n",
      "month         0\n",
      "day           0\n",
      "hour          0\n",
      "minute        0\n",
      "second        0\n",
      "dayofweek     0\n",
      "is_weekend    0\n",
      "dtype: int64\n",
      "Dur           0\n",
      "Proto         0\n",
      "SrcAddr       0\n",
      "Sport         0\n",
      "Dir           0\n",
      "DstAddr       0\n",
      "Dport         0\n",
      "State         0\n",
      "sTos          0\n",
      "dTos          0\n",
      "TotPkts       0\n",
      "TotBytes      0\n",
      "SrcBytes      0\n",
      "year          0\n",
      "month         0\n",
      "day           0\n",
      "hour          0\n",
      "minute        0\n",
      "second        0\n",
      "dayofweek     0\n",
      "is_weekend    0\n",
      "dtype: int64\n"
     ]
    }
   ],
   "source": [
    "print(augmented2.isnull().sum())\n",
    "print(augmented1.isnull().sum())"
   ]
  },
  {
   "cell_type": "code",
   "execution_count": 36,
   "metadata": {
    "execution": {
     "iopub.execute_input": "2025-08-16T11:48:35.794002Z",
     "iopub.status.busy": "2025-08-16T11:48:35.793746Z",
     "iopub.status.idle": "2025-08-16T11:48:35.869155Z",
     "shell.execute_reply": "2025-08-16T11:48:35.868536Z",
     "shell.execute_reply.started": "2025-08-16T11:48:35.793985Z"
    },
    "trusted": true
   },
   "outputs": [],
   "source": [
    "augmented2.dropna(inplace=True)"
   ]
  },
  {
   "cell_type": "markdown",
   "metadata": {},
   "source": [
    "## step2 encoding with an MLP"
   ]
  },
  {
   "cell_type": "markdown",
   "metadata": {},
   "source": [
    "(batch_size, nb_features) the size of the input , we go with batch size 32 and nbfeatures here is  21"
   ]
  },
  {
   "cell_type": "code",
   "execution_count": 37,
   "metadata": {
    "execution": {
     "iopub.execute_input": "2025-08-16T11:48:35.870212Z",
     "iopub.status.busy": "2025-08-16T11:48:35.869940Z",
     "iopub.status.idle": "2025-08-16T11:48:35.875425Z",
     "shell.execute_reply": "2025-08-16T11:48:35.874720Z",
     "shell.execute_reply.started": "2025-08-16T11:48:35.870188Z"
    },
    "trusted": true
   },
   "outputs": [
    {
     "data": {
      "text/plain": [
       "Index(['Dur', 'Proto', 'SrcAddr', 'Sport', 'Dir', 'DstAddr', 'Dport', 'State',\n",
       "       'sTos', 'dTos', 'TotPkts', 'TotBytes', 'SrcBytes', 'year', 'month',\n",
       "       'day', 'hour', 'minute', 'second', 'dayofweek', 'is_weekend'],\n",
       "      dtype='object')"
      ]
     },
     "execution_count": 37,
     "metadata": {},
     "output_type": "execute_result"
    }
   ],
   "source": [
    "len(augmented1.columns) #21\n",
    "augmented1.columns"
   ]
  },
  {
   "cell_type": "code",
   "execution_count": 38,
   "metadata": {
    "execution": {
     "iopub.execute_input": "2025-08-16T11:48:35.876354Z",
     "iopub.status.busy": "2025-08-16T11:48:35.876154Z",
     "iopub.status.idle": "2025-08-16T11:48:35.888298Z",
     "shell.execute_reply": "2025-08-16T11:48:35.887634Z",
     "shell.execute_reply.started": "2025-08-16T11:48:35.876339Z"
    },
    "trusted": true
   },
   "outputs": [],
   "source": [
    "import torch.nn as nn"
   ]
  },
  {
   "cell_type": "code",
   "execution_count": 39,
   "metadata": {
    "execution": {
     "iopub.execute_input": "2025-08-16T11:48:35.889187Z",
     "iopub.status.busy": "2025-08-16T11:48:35.889031Z",
     "iopub.status.idle": "2025-08-16T11:48:35.902167Z",
     "shell.execute_reply": "2025-08-16T11:48:35.901642Z",
     "shell.execute_reply.started": "2025-08-16T11:48:35.889175Z"
    },
    "trusted": true
   },
   "outputs": [],
   "source": [
    "class SimCLRMLP(nn.Module):\n",
    "    def __init__(self,hidden1=256,hidden2=128,inputsize=21,outputsize=64):\n",
    "        super(SimCLRMLP, self).__init__()\n",
    "        self.fc1=nn.Linear(inputsize,hidden1)\n",
    "        self.fc2=nn.Linear(hidden1,hidden2)\n",
    "        self.fc3=nn.Linear(hidden2,outputsize)\n",
    "        self.activation=nn.ReLU()\n",
    "    def forward(self,x):\n",
    "        x=self.activation(self.fc1(x))\n",
    "        x=self.activation(self.fc2(x))\n",
    "        x=self.fc3(x)\n",
    "        return x"
   ]
  },
  {
   "cell_type": "code",
   "execution_count": 40,
   "metadata": {
    "execution": {
     "iopub.execute_input": "2025-08-16T11:48:35.903113Z",
     "iopub.status.busy": "2025-08-16T11:48:35.902874Z",
     "iopub.status.idle": "2025-08-16T11:48:35.934074Z",
     "shell.execute_reply": "2025-08-16T11:48:35.933566Z",
     "shell.execute_reply.started": "2025-08-16T11:48:35.903093Z"
    },
    "trusted": true
   },
   "outputs": [],
   "source": [
    "mlp=SimCLRMLP()"
   ]
  },
  {
   "cell_type": "markdown",
   "metadata": {},
   "source": [
    "the mlp is just to go from tabular data to a vecotr embedding , then we use a projection hear so we are in the space we will do our constructive loss in "
   ]
  },
  {
   "cell_type": "markdown",
   "metadata": {},
   "source": [
    "## step3 projection layer"
   ]
  },
  {
   "cell_type": "code",
   "execution_count": 41,
   "metadata": {
    "execution": {
     "iopub.execute_input": "2025-08-16T11:48:35.934915Z",
     "iopub.status.busy": "2025-08-16T11:48:35.934695Z",
     "iopub.status.idle": "2025-08-16T11:48:35.939387Z",
     "shell.execute_reply": "2025-08-16T11:48:35.938729Z",
     "shell.execute_reply.started": "2025-08-16T11:48:35.934900Z"
    },
    "trusted": true
   },
   "outputs": [],
   "source": [
    "class ProjectionMLP(nn.Module):\n",
    "    def __init__(self,inputsize=64,hiddensize=128,outputsize=128):\n",
    "        super(ProjectionMLP,self).__init__()\n",
    "        self.fc1=nn.Linear(inputsize,hiddensize)\n",
    "        self.fc2=nn.Linear(hiddensize,outputsize)\n",
    "        self.relu=nn.ReLU()\n",
    "\n",
    "    def forward(self,x):\n",
    "        x=self.relu(self.fc1(x))\n",
    "        x=self.fc2(x)\n",
    "        return x\n",
    "        \n",
    "        \n"
   ]
  },
  {
   "cell_type": "markdown",
   "metadata": {},
   "source": [
    "### Data loader"
   ]
  },
  {
   "cell_type": "code",
   "execution_count": 42,
   "metadata": {
    "execution": {
     "iopub.execute_input": "2025-08-16T11:48:35.940444Z",
     "iopub.status.busy": "2025-08-16T11:48:35.940150Z",
     "iopub.status.idle": "2025-08-16T11:48:35.952030Z",
     "shell.execute_reply": "2025-08-16T11:48:35.951502Z",
     "shell.execute_reply.started": "2025-08-16T11:48:35.940428Z"
    },
    "trusted": true
   },
   "outputs": [
    {
     "name": "stdout",
     "output_type": "stream",
     "text": [
      "<class 'pandas.core.frame.DataFrame'> (451032, 21)\n"
     ]
    }
   ],
   "source": [
    "import torch\n",
    "from torch.utils.data import DataLoader,TensorDataset\n",
    "print(type(dataset),dataset.shape)"
   ]
  },
  {
   "cell_type": "code",
   "execution_count": 43,
   "metadata": {
    "execution": {
     "iopub.execute_input": "2025-08-16T11:48:35.953042Z",
     "iopub.status.busy": "2025-08-16T11:48:35.952751Z",
     "iopub.status.idle": "2025-08-16T11:48:35.993128Z",
     "shell.execute_reply": "2025-08-16T11:48:35.992460Z",
     "shell.execute_reply.started": "2025-08-16T11:48:35.953026Z"
    },
    "trusted": true
   },
   "outputs": [],
   "source": [
    "X_tensor = torch.tensor(dataset.values, dtype=torch.float32) "
   ]
  },
  {
   "cell_type": "code",
   "execution_count": 44,
   "metadata": {
    "execution": {
     "iopub.execute_input": "2025-08-16T11:48:35.994097Z",
     "iopub.status.busy": "2025-08-16T11:48:35.993853Z",
     "iopub.status.idle": "2025-08-16T11:48:35.997863Z",
     "shell.execute_reply": "2025-08-16T11:48:35.997258Z",
     "shell.execute_reply.started": "2025-08-16T11:48:35.994078Z"
    },
    "trusted": true
   },
   "outputs": [],
   "source": [
    "flow_dataset = TensorDataset(X_tensor) "
   ]
  },
  {
   "cell_type": "code",
   "execution_count": 45,
   "metadata": {
    "execution": {
     "iopub.execute_input": "2025-08-16T11:48:35.999037Z",
     "iopub.status.busy": "2025-08-16T11:48:35.998584Z",
     "iopub.status.idle": "2025-08-16T11:48:36.009827Z",
     "shell.execute_reply": "2025-08-16T11:48:36.009281Z",
     "shell.execute_reply.started": "2025-08-16T11:48:35.999013Z"
    },
    "trusted": true
   },
   "outputs": [],
   "source": [
    "dataloader = DataLoader(flow_dataset, batch_size=256, shuffle=True)\n"
   ]
  },
  {
   "cell_type": "code",
   "execution_count": 46,
   "metadata": {
    "execution": {
     "iopub.execute_input": "2025-08-16T11:48:36.010550Z",
     "iopub.status.busy": "2025-08-16T11:48:36.010382Z",
     "iopub.status.idle": "2025-08-16T11:48:36.274303Z",
     "shell.execute_reply": "2025-08-16T11:48:36.273746Z",
     "shell.execute_reply.started": "2025-08-16T11:48:36.010536Z"
    },
    "trusted": true
   },
   "outputs": [],
   "source": [
    "device = torch.device(\"cuda\" if torch.cuda.is_available() else \"cpu\")\n",
    "encoder = SimCLRMLP().to(device)\n",
    "projection_head = ProjectionMLP(inputsize=64).to(device)\n"
   ]
  },
  {
   "cell_type": "code",
   "execution_count": 47,
   "metadata": {
    "execution": {
     "iopub.execute_input": "2025-08-16T11:48:36.275210Z",
     "iopub.status.busy": "2025-08-16T11:48:36.274972Z",
     "iopub.status.idle": "2025-08-16T11:48:38.777849Z",
     "shell.execute_reply": "2025-08-16T11:48:38.777310Z",
     "shell.execute_reply.started": "2025-08-16T11:48:36.275188Z"
    },
    "trusted": true
   },
   "outputs": [],
   "source": [
    "optimizer = torch.optim.Adam(list(encoder.parameters()) + list(projection_head.parameters()), lr=1e-3)\n"
   ]
  },
  {
   "cell_type": "code",
   "execution_count": 48,
   "metadata": {
    "execution": {
     "iopub.execute_input": "2025-08-16T11:48:38.778787Z",
     "iopub.status.busy": "2025-08-16T11:48:38.778461Z",
     "iopub.status.idle": "2025-08-16T11:48:38.782730Z",
     "shell.execute_reply": "2025-08-16T11:48:38.782021Z",
     "shell.execute_reply.started": "2025-08-16T11:48:38.778770Z"
    },
    "trusted": true
   },
   "outputs": [
    {
     "name": "stdout",
     "output_type": "stream",
     "text": [
      "451032\n"
     ]
    }
   ],
   "source": [
    "print(len(dataset))"
   ]
  },
  {
   "cell_type": "code",
   "execution_count": null,
   "metadata": {
    "execution": {
     "iopub.execute_input": "2025-08-16T11:48:38.783725Z",
     "iopub.status.busy": "2025-08-16T11:48:38.783416Z",
     "iopub.status.idle": "2025-08-16T11:48:38.802869Z",
     "shell.execute_reply": "2025-08-16T11:48:38.802103Z",
     "shell.execute_reply.started": "2025-08-16T11:48:38.783701Z"
    },
    "trusted": true
   },
   "outputs": [],
   "source": [
    "def nt_xent_loss(z1, z2, temperature=0.5):\n",
    "    \"\"\"\n",
    "    Normalized Temperature-scaled Cross Entropy Loss (NT-Xent) for SimCLR.\n",
    "    \"\"\"\n",
    "    batch_size = z1.size(0)\n",
    "\n",
    "    z1 = F.normalize(z1, dim=1)\n",
    "    z2 = F.normalize(z2, dim=1)\n",
    "\n",
    "    z = torch.cat([z1, z2], dim=0)  # (2N, dim)\n",
    "\n",
    "    sim_matrix = F.cosine_similarity(z.unsqueeze(1), z.unsqueeze(0), dim=2)  # (2N, 2N)\n",
    "\n",
    "    mask = torch.eye(2 * batch_size, dtype=torch.bool).to(z.device)\n",
    "    sim_matrix = sim_matrix[~mask].view(2 * batch_size, -1)\n",
    "\n",
    "    positives = torch.cat([torch.arange(batch_size, 2*batch_size),\n",
    "                           torch.arange(0, batch_size)]).to(z.device)\n",
    "\n",
    "    pos_sim = torch.cat([F.cosine_similarity(z1, z2),\n",
    "                         F.cosine_similarity(z2, z1)])\n",
    "\n",
    "    numerator = torch.exp(pos_sim / temperature)\n",
    "    denominator = torch.sum(torch.exp(sim_matrix / temperature), dim=1)\n",
    "\n",
    "    loss = -torch.log(numerator / denominator)\n",
    "    return loss.mean()\n"
   ]
  },
  {
   "cell_type": "markdown",
   "metadata": {},
   "source": [
    "nt_xent loss : type of constractive loss == we bring together simliar things and push away non sim ?!\n",
    "NT-Xent loss (Normalized Temperature-scaled Cross Entropy Loss)\n",
    "used in self supervised learning\n",
    "\n",
    "how it works\n",
    "the pos pais are the two views we make\n",
    "everything else is neg pairs\n",
    "the model that way learn the embedding of view1 and view 2 are close"
   ]
  },
  {
   "cell_type": "code",
   "execution_count": 50,
   "metadata": {
    "execution": {
     "iopub.execute_input": "2025-08-16T11:48:38.804125Z",
     "iopub.status.busy": "2025-08-16T11:48:38.803610Z",
     "iopub.status.idle": "2025-08-16T11:48:38.816655Z",
     "shell.execute_reply": "2025-08-16T11:48:38.816065Z",
     "shell.execute_reply.started": "2025-08-16T11:48:38.804106Z"
    },
    "trusted": true
   },
   "outputs": [],
   "source": [
    "import torch.nn.functional as F\n"
   ]
  },
  {
   "cell_type": "markdown",
   "metadata": {},
   "source": [
    "## training loop and constractive loss"
   ]
  },
  {
   "cell_type": "code",
   "execution_count": null,
   "metadata": {
    "execution": {
     "iopub.execute_input": "2025-08-16T11:48:38.817448Z",
     "iopub.status.busy": "2025-08-16T11:48:38.817260Z",
     "iopub.status.idle": "2025-08-16T12:10:14.241010Z",
     "shell.execute_reply": "2025-08-16T12:10:14.240364Z",
     "shell.execute_reply.started": "2025-08-16T11:48:38.817432Z"
    },
    "trusted": true
   },
   "outputs": [
    {
     "name": "stdout",
     "output_type": "stream",
     "text": [
      "Epoch [1/20], Loss: 4.8526\n",
      "Epoch [2/20], Loss: 4.7096\n",
      "Epoch [3/20], Loss: 4.6685\n",
      "Epoch [4/20], Loss: 4.6409\n",
      "Epoch [5/20], Loss: 4.6233\n",
      "Epoch [6/20], Loss: 4.6087\n",
      "Epoch [7/20], Loss: 4.5966\n",
      "Epoch [8/20], Loss: 4.5889\n",
      "Epoch [9/20], Loss: 4.5799\n",
      "Epoch [10/20], Loss: 4.5751\n",
      "Epoch [11/20], Loss: 4.5702\n",
      "Epoch [12/20], Loss: 4.5659\n",
      "Epoch [13/20], Loss: 4.5636\n",
      "Epoch [14/20], Loss: 4.5606\n",
      "Epoch [15/20], Loss: 4.5593\n",
      "Epoch [16/20], Loss: 4.5569\n",
      "Epoch [17/20], Loss: 4.5554\n",
      "Epoch [18/20], Loss: 4.5538\n",
      "Epoch [19/20], Loss: 4.5534\n",
      "Epoch [20/20], Loss: 4.5499\n"
     ]
    }
   ],
   "source": [
    "epochs = 20\n",
    "for epoch in range(epochs):\n",
    "    total_loss = 0\n",
    "    for batch in dataloader:\n",
    "        batch_data = batch[0].to(device)\n",
    "        \n",
    "        batch_np = batch_data.cpu().numpy()\n",
    "        view1_np = augment_dataset(pd.DataFrame(batch_np), maskrate=0.1, noisestd=0.01, droprate=0.05).values\n",
    "        view2_np = augment_dataset(pd.DataFrame(batch_np), maskrate=0.1, noisestd=0.01, droprate=0.05).values\n",
    "        #idk whre the nan came from \n",
    "        view1_np = np.nan_to_num(view1_np, nan=0.0, posinf=1e6, neginf=-1e6)\n",
    "\n",
    "       #   print(np.isnan(view1_np).any(), np.isinf(view1_np).any())\n",
    "\n",
    "        view1 = torch.tensor(view1_np, dtype=torch.float32).to(device)\n",
    "        view2 = torch.tensor(view2_np, dtype=torch.float32).to(device)\n",
    "        \n",
    "        h1 = encoder(view1)\n",
    "        z1 = projection_head(h1)\n",
    "        z1 = F.normalize(z1, dim=1)  \n",
    "        \n",
    "        h2 = encoder(view2)\n",
    "        z2 = projection_head(h2)\n",
    "        z2 = F.normalize(z2, dim=1)\n",
    "        \n",
    "        #  NT-Xent loss\n",
    "        loss = nt_xent_loss(z1, z2)\n",
    "        \n",
    "        optimizer.zero_grad()\n",
    "        loss.backward()\n",
    "        optimizer.step()\n",
    "        \n",
    "        total_loss += loss.item()\n",
    "    \n",
    "    avg_loss = total_loss / len(dataloader)\n",
    "    print(f\"Epoch [{epoch+1}/{epochs}], Loss: {avg_loss:.4f}\")"
   ]
  },
  {
   "cell_type": "code",
   "execution_count": 52,
   "metadata": {
    "execution": {
     "iopub.execute_input": "2025-08-16T12:10:14.241918Z",
     "iopub.status.busy": "2025-08-16T12:10:14.241692Z",
     "iopub.status.idle": "2025-08-16T12:10:14.246305Z",
     "shell.execute_reply": "2025-08-16T12:10:14.245541Z",
     "shell.execute_reply.started": "2025-08-16T12:10:14.241900Z"
    },
    "trusted": true
   },
   "outputs": [
    {
     "name": "stdout",
     "output_type": "stream",
     "text": [
      "uh?\n"
     ]
    }
   ],
   "source": [
    "print(\"uh?\")"
   ]
  },
  {
   "cell_type": "markdown",
   "metadata": {},
   "source": [
    "what we have to understand here is the position of slimclr in this proj or any other use , it isnt the main model that will be doing the classification job  , what it serves as is a way to train the model on unlabeled data and makes it understand the embedding and able to generate the accurate embedding , the linear classfier we bring in the game later , will not use the data direclty but the embedding that the trained encoder will generate holly molly that is cool"
   ]
  },
  {
   "cell_type": "markdown",
   "metadata": {},
   "source": [
    "we discard the mlp cause we only needed it to get the constractive loss , we when usage now use only the encoder that will get us the right embeddings"
   ]
  },
  {
   "cell_type": "markdown",
   "metadata": {},
   "source": [
    "### freese the encoder"
   ]
  },
  {
   "cell_type": "code",
   "execution_count": 55,
   "metadata": {
    "execution": {
     "iopub.execute_input": "2025-08-16T12:10:50.546050Z",
     "iopub.status.busy": "2025-08-16T12:10:50.545728Z",
     "iopub.status.idle": "2025-08-16T12:10:50.550962Z",
     "shell.execute_reply": "2025-08-16T12:10:50.549961Z",
     "shell.execute_reply.started": "2025-08-16T12:10:50.546029Z"
    },
    "trusted": true
   },
   "outputs": [],
   "source": [
    "encoder = encoder.to(device)  # make sure encoder is on GPU if available\n"
   ]
  },
  {
   "cell_type": "code",
   "execution_count": 56,
   "metadata": {
    "execution": {
     "iopub.execute_input": "2025-08-16T12:10:51.755315Z",
     "iopub.status.busy": "2025-08-16T12:10:51.755065Z",
     "iopub.status.idle": "2025-08-16T12:10:51.759235Z",
     "shell.execute_reply": "2025-08-16T12:10:51.758566Z",
     "shell.execute_reply.started": "2025-08-16T12:10:51.755295Z"
    },
    "trusted": true
   },
   "outputs": [],
   "source": [
    "encoder.eval()\n",
    "projection_head.eval()  #wont be used\n",
    "\n",
    "for param in encoder.parameters():\n",
    "    param.requires_grad = False #freeze it upp"
   ]
  },
  {
   "cell_type": "markdown",
   "metadata": {},
   "source": [
    "# we define the lieanr classifier"
   ]
  },
  {
   "cell_type": "code",
   "execution_count": 57,
   "metadata": {
    "execution": {
     "iopub.execute_input": "2025-08-16T12:10:55.214261Z",
     "iopub.status.busy": "2025-08-16T12:10:55.214017Z",
     "iopub.status.idle": "2025-08-16T12:10:55.218737Z",
     "shell.execute_reply": "2025-08-16T12:10:55.217966Z",
     "shell.execute_reply.started": "2025-08-16T12:10:55.214242Z"
    },
    "trusted": true
   },
   "outputs": [],
   "source": [
    "import torch.nn as nn\n",
    "\n",
    "embedding_dim = 64  \n",
    "num_classes = 2  \n",
    "linear_classifier = nn.Linear(embedding_dim, num_classes)"
   ]
  },
  {
   "cell_type": "markdown",
   "metadata": {},
   "source": [
    "### we train the linear classifire"
   ]
  },
  {
   "cell_type": "code",
   "execution_count": 58,
   "metadata": {
    "execution": {
     "iopub.execute_input": "2025-08-16T12:10:58.047757Z",
     "iopub.status.busy": "2025-08-16T12:10:58.047229Z",
     "iopub.status.idle": "2025-08-16T12:10:58.054383Z",
     "shell.execute_reply": "2025-08-16T12:10:58.053772Z",
     "shell.execute_reply.started": "2025-08-16T12:10:58.047732Z"
    },
    "trusted": true
   },
   "outputs": [],
   "source": [
    "X_labeled=linear_model.drop(columns=['Label'],inplace=False)\n",
    "y_labels=linear_model['Label']"
   ]
  },
  {
   "cell_type": "code",
   "execution_count": 59,
   "metadata": {
    "execution": {
     "iopub.execute_input": "2025-08-16T12:11:06.211518Z",
     "iopub.status.busy": "2025-08-16T12:11:06.210825Z",
     "iopub.status.idle": "2025-08-16T12:11:06.218054Z",
     "shell.execute_reply": "2025-08-16T12:11:06.217479Z",
     "shell.execute_reply.started": "2025-08-16T12:11:06.211490Z"
    },
    "trusted": true
   },
   "outputs": [
    {
     "data": {
      "text/plain": [
       "array([1, 2])"
      ]
     },
     "execution_count": 59,
     "metadata": {},
     "output_type": "execute_result"
    }
   ],
   "source": [
    "y_labels.unique() #the 1 2 wont work with crossentrloss"
   ]
  },
  {
   "cell_type": "code",
   "execution_count": 70,
   "metadata": {
    "execution": {
     "iopub.execute_input": "2025-08-16T12:43:20.994364Z",
     "iopub.status.busy": "2025-08-16T12:43:20.993678Z",
     "iopub.status.idle": "2025-08-16T12:43:20.998069Z",
     "shell.execute_reply": "2025-08-16T12:43:20.997343Z",
     "shell.execute_reply.started": "2025-08-16T12:43:20.994343Z"
    },
    "trusted": true
   },
   "outputs": [],
   "source": [
    "y_labels = torch.tensor(y_labels.values, dtype=torch.long)\n"
   ]
  },
  {
   "cell_type": "code",
   "execution_count": 72,
   "metadata": {
    "execution": {
     "iopub.execute_input": "2025-08-16T12:43:32.917122Z",
     "iopub.status.busy": "2025-08-16T12:43:32.916464Z",
     "iopub.status.idle": "2025-08-16T12:43:33.260319Z",
     "shell.execute_reply": "2025-08-16T12:43:33.259769Z",
     "shell.execute_reply.started": "2025-08-16T12:43:32.917098Z"
    },
    "trusted": true
   },
   "outputs": [],
   "source": [
    "unique_labels = torch.unique(y_labels)\n",
    "label_map = {old.item(): new for new, old in enumerate(unique_labels)}\n",
    "y_labels = torch.tensor([label_map[int(l)] for l in y_labels], dtype=torch.long)"
   ]
  },
  {
   "cell_type": "code",
   "execution_count": 73,
   "metadata": {
    "execution": {
     "iopub.execute_input": "2025-08-16T12:43:39.413583Z",
     "iopub.status.busy": "2025-08-16T12:43:39.412895Z",
     "iopub.status.idle": "2025-08-16T12:43:39.418562Z",
     "shell.execute_reply": "2025-08-16T12:43:39.417977Z",
     "shell.execute_reply.started": "2025-08-16T12:43:39.413558Z"
    },
    "trusted": true
   },
   "outputs": [
    {
     "data": {
      "text/plain": [
       "tensor([0, 0, 0,  ..., 1, 0, 0])"
      ]
     },
     "execution_count": 73,
     "metadata": {},
     "output_type": "execute_result"
    }
   ],
   "source": [
    "y_labels"
   ]
  },
  {
   "cell_type": "code",
   "execution_count": 74,
   "metadata": {
    "execution": {
     "iopub.execute_input": "2025-08-16T12:43:42.651867Z",
     "iopub.status.busy": "2025-08-16T12:43:42.651161Z",
     "iopub.status.idle": "2025-08-16T12:43:42.659233Z",
     "shell.execute_reply": "2025-08-16T12:43:42.658636Z",
     "shell.execute_reply.started": "2025-08-16T12:43:42.651841Z"
    },
    "trusted": true
   },
   "outputs": [],
   "source": [
    "X_tensor = torch.tensor(X_labeled.values, dtype=torch.float32).to(device)\n",
    "#y_tensor = torch.tensor(y_labels.values, dtype=torch.long).to(device)"
   ]
  },
  {
   "cell_type": "code",
   "execution_count": 54,
   "metadata": {
    "execution": {
     "iopub.execute_input": "2025-08-16T12:10:46.419857Z",
     "iopub.status.busy": "2025-08-16T12:10:46.419565Z",
     "iopub.status.idle": "2025-08-16T12:10:46.424478Z",
     "shell.execute_reply": "2025-08-16T12:10:46.423630Z",
     "shell.execute_reply.started": "2025-08-16T12:10:46.419836Z"
    },
    "trusted": true
   },
   "outputs": [],
   "source": [
    "device = torch.device(\"cuda\" if torch.cuda.is_available() else \"cpu\")\n"
   ]
  },
  {
   "cell_type": "code",
   "execution_count": 65,
   "metadata": {
    "execution": {
     "iopub.execute_input": "2025-08-16T12:12:28.785824Z",
     "iopub.status.busy": "2025-08-16T12:12:28.785220Z",
     "iopub.status.idle": "2025-08-16T12:12:28.789867Z",
     "shell.execute_reply": "2025-08-16T12:12:28.789251Z",
     "shell.execute_reply.started": "2025-08-16T12:12:28.785801Z"
    },
    "trusted": true
   },
   "outputs": [],
   "source": [
    "with torch.no_grad():\n",
    "    embeddings = encoder(X_tensor)"
   ]
  },
  {
   "cell_type": "code",
   "execution_count": 80,
   "metadata": {
    "execution": {
     "iopub.execute_input": "2025-08-16T12:48:50.723614Z",
     "iopub.status.busy": "2025-08-16T12:48:50.723349Z",
     "iopub.status.idle": "2025-08-16T12:48:50.728941Z",
     "shell.execute_reply": "2025-08-16T12:48:50.728271Z",
     "shell.execute_reply.started": "2025-08-16T12:48:50.723578Z"
    },
    "trusted": true
   },
   "outputs": [],
   "source": [
    "def makedataloadder(dataset):#for the dataset with label\n",
    "        X_labeled=dataset.drop(columns=['Label'],inplace=False)\n",
    "        y_labels=dataset['Label']\n",
    "        y_labels = torch.tensor(y_labels.values, dtype=torch.long)\n",
    "        unique_labels = torch.unique(y_labels)\n",
    "        label_map = {old.item(): new for new, old in enumerate(unique_labels)}\n",
    "        y_labels = torch.tensor([label_map[int(l)] for l in y_labels], dtype=torch.long)\n",
    "        X_tensor = torch.tensor(X_labeled.values, dtype=torch.float32).to(device)\n",
    "        with torch.no_grad():\n",
    "            embeddings = encoder(X_tensor)\n",
    "        clf_dataset = TensorDataset(embeddings, y_labels)\n",
    "        clf_loader = DataLoader(clf_dataset, batch_size=256, shuffle=True)\n",
    "        return clf_loader\n",
    "\n"
   ]
  },
  {
   "cell_type": "code",
   "execution_count": null,
   "metadata": {
    "execution": {
     "iopub.execute_input": "2025-08-16T12:44:00.019717Z",
     "iopub.status.busy": "2025-08-16T12:44:00.019145Z",
     "iopub.status.idle": "2025-08-16T12:44:12.264668Z",
     "shell.execute_reply": "2025-08-16T12:44:12.263952Z",
     "shell.execute_reply.started": "2025-08-16T12:44:00.019693Z"
    },
    "trusted": true
   },
   "outputs": [
    {
     "name": "stdout",
     "output_type": "stream",
     "text": [
      "Epoch 1, Loss: 148.6328\n",
      "Epoch 2, Loss: 46.1276\n",
      "Epoch 3, Loss: 24.6642\n",
      "Epoch 4, Loss: 22.1683\n",
      "Epoch 5, Loss: 23.8489\n",
      "Epoch 6, Loss: 28.9456\n",
      "Epoch 7, Loss: 21.2504\n",
      "Epoch 8, Loss: 16.9716\n",
      "Epoch 9, Loss: 17.6823\n",
      "Epoch 10, Loss: 17.4710\n",
      "Epoch 11, Loss: 26.7376\n",
      "Epoch 12, Loss: 16.4018\n",
      "Epoch 13, Loss: 16.1348\n",
      "Epoch 14, Loss: 36.5545\n",
      "Epoch 15, Loss: 36.2790\n",
      "Epoch 16, Loss: 16.5747\n",
      "Epoch 17, Loss: 13.4930\n",
      "Epoch 18, Loss: 22.3170\n",
      "Epoch 19, Loss: 12.3014\n",
      "Epoch 20, Loss: 36.5032\n"
     ]
    }
   ],
   "source": [
    "clf_dataset = TensorDataset(embeddings, y_labels)\n",
    "clf_loader = DataLoader(clf_dataset, batch_size=256, shuffle=True)\n",
    "\n",
    "# da classifier\n",
    "classifier = nn.Linear(embeddings.shape[1], len(unique_labels))\n",
    "classifier = classifier.to(device)\n",
    "\n",
    "criterion = nn.CrossEntropyLoss()\n",
    "optimizer = torch.optim.Adam(classifier.parameters(), lr=1e-3)\n",
    "\n",
    "#  classifier training loop\n",
    "for epoch in range(20):\n",
    "    total_loss = 0\n",
    "    for xb, yb in clf_loader:\n",
    "        xb, yb = xb.to(device), yb.to(device)\n",
    "\n",
    "        optimizer.zero_grad()\n",
    "        preds = classifier(xb)\n",
    "        loss = criterion(preds, yb)\n",
    "        loss.backward()\n",
    "        optimizer.step()\n",
    "\n",
    "        total_loss += loss.item()\n",
    "    print(f\"Epoch {epoch+1}, Loss: {total_loss / len(clf_loader):.4f}\")"
   ]
  },
  {
   "cell_type": "markdown",
   "metadata": {},
   "source": [
    "### Evaluate this bad boy"
   ]
  },
  {
   "cell_type": "code",
   "execution_count": 78,
   "metadata": {
    "execution": {
     "iopub.execute_input": "2025-08-16T12:45:33.155991Z",
     "iopub.status.busy": "2025-08-16T12:45:33.155739Z",
     "iopub.status.idle": "2025-08-16T12:45:33.178059Z",
     "shell.execute_reply": "2025-08-16T12:45:33.177456Z",
     "shell.execute_reply.started": "2025-08-16T12:45:33.155976Z"
    },
    "trusted": true
   },
   "outputs": [
    {
     "data": {
      "text/html": [
       "<div>\n",
       "<style scoped>\n",
       "    .dataframe tbody tr th:only-of-type {\n",
       "        vertical-align: middle;\n",
       "    }\n",
       "\n",
       "    .dataframe tbody tr th {\n",
       "        vertical-align: top;\n",
       "    }\n",
       "\n",
       "    .dataframe thead th {\n",
       "        text-align: right;\n",
       "    }\n",
       "</style>\n",
       "<table border=\"1\" class=\"dataframe\">\n",
       "  <thead>\n",
       "    <tr style=\"text-align: right;\">\n",
       "      <th></th>\n",
       "      <th>Dur</th>\n",
       "      <th>Proto</th>\n",
       "      <th>SrcAddr</th>\n",
       "      <th>Sport</th>\n",
       "      <th>Dir</th>\n",
       "      <th>DstAddr</th>\n",
       "      <th>Dport</th>\n",
       "      <th>State</th>\n",
       "      <th>sTos</th>\n",
       "      <th>dTos</th>\n",
       "      <th>...</th>\n",
       "      <th>SrcBytes</th>\n",
       "      <th>Label</th>\n",
       "      <th>year</th>\n",
       "      <th>month</th>\n",
       "      <th>day</th>\n",
       "      <th>hour</th>\n",
       "      <th>minute</th>\n",
       "      <th>second</th>\n",
       "      <th>dayofweek</th>\n",
       "      <th>is_weekend</th>\n",
       "    </tr>\n",
       "  </thead>\n",
       "  <tbody>\n",
       "    <tr>\n",
       "      <th>18322351</th>\n",
       "      <td>0.189872</td>\n",
       "      <td>3</td>\n",
       "      <td>7</td>\n",
       "      <td>2834</td>\n",
       "      <td>1</td>\n",
       "      <td>1366</td>\n",
       "      <td>752</td>\n",
       "      <td>4</td>\n",
       "      <td>0.0</td>\n",
       "      <td>0.0</td>\n",
       "      <td>...</td>\n",
       "      <td>74</td>\n",
       "      <td>1</td>\n",
       "      <td>2011</td>\n",
       "      <td>8</td>\n",
       "      <td>15</td>\n",
       "      <td>18</td>\n",
       "      <td>47</td>\n",
       "      <td>41</td>\n",
       "      <td>0</td>\n",
       "      <td>0</td>\n",
       "    </tr>\n",
       "    <tr>\n",
       "      <th>18322356</th>\n",
       "      <td>0.189283</td>\n",
       "      <td>3</td>\n",
       "      <td>7</td>\n",
       "      <td>7717</td>\n",
       "      <td>1</td>\n",
       "      <td>1366</td>\n",
       "      <td>752</td>\n",
       "      <td>4</td>\n",
       "      <td>0.0</td>\n",
       "      <td>0.0</td>\n",
       "      <td>...</td>\n",
       "      <td>69</td>\n",
       "      <td>1</td>\n",
       "      <td>2011</td>\n",
       "      <td>8</td>\n",
       "      <td>15</td>\n",
       "      <td>18</td>\n",
       "      <td>47</td>\n",
       "      <td>41</td>\n",
       "      <td>0</td>\n",
       "      <td>0</td>\n",
       "    </tr>\n",
       "    <tr>\n",
       "      <th>18322408</th>\n",
       "      <td>0.030104</td>\n",
       "      <td>3</td>\n",
       "      <td>8</td>\n",
       "      <td>34660</td>\n",
       "      <td>1</td>\n",
       "      <td>1366</td>\n",
       "      <td>752</td>\n",
       "      <td>4</td>\n",
       "      <td>0.0</td>\n",
       "      <td>0.0</td>\n",
       "      <td>...</td>\n",
       "      <td>82</td>\n",
       "      <td>2</td>\n",
       "      <td>2011</td>\n",
       "      <td>8</td>\n",
       "      <td>15</td>\n",
       "      <td>18</td>\n",
       "      <td>47</td>\n",
       "      <td>41</td>\n",
       "      <td>0</td>\n",
       "      <td>0</td>\n",
       "    </tr>\n",
       "    <tr>\n",
       "      <th>18322409</th>\n",
       "      <td>0.000234</td>\n",
       "      <td>3</td>\n",
       "      <td>8</td>\n",
       "      <td>19210</td>\n",
       "      <td>1</td>\n",
       "      <td>1366</td>\n",
       "      <td>752</td>\n",
       "      <td>4</td>\n",
       "      <td>0.0</td>\n",
       "      <td>0.0</td>\n",
       "      <td>...</td>\n",
       "      <td>82</td>\n",
       "      <td>2</td>\n",
       "      <td>2011</td>\n",
       "      <td>8</td>\n",
       "      <td>15</td>\n",
       "      <td>18</td>\n",
       "      <td>47</td>\n",
       "      <td>41</td>\n",
       "      <td>0</td>\n",
       "      <td>0</td>\n",
       "    </tr>\n",
       "    <tr>\n",
       "      <th>18322410</th>\n",
       "      <td>0.000239</td>\n",
       "      <td>3</td>\n",
       "      <td>8</td>\n",
       "      <td>26579</td>\n",
       "      <td>1</td>\n",
       "      <td>1366</td>\n",
       "      <td>752</td>\n",
       "      <td>4</td>\n",
       "      <td>0.0</td>\n",
       "      <td>0.0</td>\n",
       "      <td>...</td>\n",
       "      <td>82</td>\n",
       "      <td>2</td>\n",
       "      <td>2011</td>\n",
       "      <td>8</td>\n",
       "      <td>15</td>\n",
       "      <td>18</td>\n",
       "      <td>47</td>\n",
       "      <td>41</td>\n",
       "      <td>0</td>\n",
       "      <td>0</td>\n",
       "    </tr>\n",
       "    <tr>\n",
       "      <th>...</th>\n",
       "      <td>...</td>\n",
       "      <td>...</td>\n",
       "      <td>...</td>\n",
       "      <td>...</td>\n",
       "      <td>...</td>\n",
       "      <td>...</td>\n",
       "      <td>...</td>\n",
       "      <td>...</td>\n",
       "      <td>...</td>\n",
       "      <td>...</td>\n",
       "      <td>...</td>\n",
       "      <td>...</td>\n",
       "      <td>...</td>\n",
       "      <td>...</td>\n",
       "      <td>...</td>\n",
       "      <td>...</td>\n",
       "      <td>...</td>\n",
       "      <td>...</td>\n",
       "      <td>...</td>\n",
       "      <td>...</td>\n",
       "      <td>...</td>\n",
       "    </tr>\n",
       "    <tr>\n",
       "      <th>19975942</th>\n",
       "      <td>0.000429</td>\n",
       "      <td>3</td>\n",
       "      <td>8</td>\n",
       "      <td>40166</td>\n",
       "      <td>1</td>\n",
       "      <td>1366</td>\n",
       "      <td>752</td>\n",
       "      <td>4</td>\n",
       "      <td>0.0</td>\n",
       "      <td>0.0</td>\n",
       "      <td>...</td>\n",
       "      <td>74</td>\n",
       "      <td>2</td>\n",
       "      <td>2011</td>\n",
       "      <td>8</td>\n",
       "      <td>16</td>\n",
       "      <td>9</td>\n",
       "      <td>35</td>\n",
       "      <td>46</td>\n",
       "      <td>1</td>\n",
       "      <td>0</td>\n",
       "    </tr>\n",
       "    <tr>\n",
       "      <th>19975943</th>\n",
       "      <td>0.018334</td>\n",
       "      <td>2</td>\n",
       "      <td>8</td>\n",
       "      <td>26411</td>\n",
       "      <td>2</td>\n",
       "      <td>4234</td>\n",
       "      <td>902</td>\n",
       "      <td>30</td>\n",
       "      <td>0.0</td>\n",
       "      <td>0.0</td>\n",
       "      <td>...</td>\n",
       "      <td>272</td>\n",
       "      <td>2</td>\n",
       "      <td>2011</td>\n",
       "      <td>8</td>\n",
       "      <td>16</td>\n",
       "      <td>9</td>\n",
       "      <td>35</td>\n",
       "      <td>46</td>\n",
       "      <td>1</td>\n",
       "      <td>0</td>\n",
       "    </tr>\n",
       "    <tr>\n",
       "      <th>19976516</th>\n",
       "      <td>0.000521</td>\n",
       "      <td>3</td>\n",
       "      <td>8</td>\n",
       "      <td>21426</td>\n",
       "      <td>1</td>\n",
       "      <td>1366</td>\n",
       "      <td>752</td>\n",
       "      <td>4</td>\n",
       "      <td>0.0</td>\n",
       "      <td>0.0</td>\n",
       "      <td>...</td>\n",
       "      <td>74</td>\n",
       "      <td>2</td>\n",
       "      <td>2011</td>\n",
       "      <td>8</td>\n",
       "      <td>16</td>\n",
       "      <td>9</td>\n",
       "      <td>35</td>\n",
       "      <td>56</td>\n",
       "      <td>1</td>\n",
       "      <td>0</td>\n",
       "    </tr>\n",
       "    <tr>\n",
       "      <th>19976517</th>\n",
       "      <td>0.000242</td>\n",
       "      <td>3</td>\n",
       "      <td>8</td>\n",
       "      <td>19367</td>\n",
       "      <td>1</td>\n",
       "      <td>1366</td>\n",
       "      <td>752</td>\n",
       "      <td>4</td>\n",
       "      <td>0.0</td>\n",
       "      <td>0.0</td>\n",
       "      <td>...</td>\n",
       "      <td>74</td>\n",
       "      <td>2</td>\n",
       "      <td>2011</td>\n",
       "      <td>8</td>\n",
       "      <td>16</td>\n",
       "      <td>9</td>\n",
       "      <td>35</td>\n",
       "      <td>56</td>\n",
       "      <td>1</td>\n",
       "      <td>0</td>\n",
       "    </tr>\n",
       "    <tr>\n",
       "      <th>19976518</th>\n",
       "      <td>0.017897</td>\n",
       "      <td>2</td>\n",
       "      <td>8</td>\n",
       "      <td>26412</td>\n",
       "      <td>2</td>\n",
       "      <td>4234</td>\n",
       "      <td>902</td>\n",
       "      <td>30</td>\n",
       "      <td>0.0</td>\n",
       "      <td>0.0</td>\n",
       "      <td>...</td>\n",
       "      <td>272</td>\n",
       "      <td>2</td>\n",
       "      <td>2011</td>\n",
       "      <td>8</td>\n",
       "      <td>16</td>\n",
       "      <td>9</td>\n",
       "      <td>35</td>\n",
       "      <td>56</td>\n",
       "      <td>1</td>\n",
       "      <td>0</td>\n",
       "    </tr>\n",
       "  </tbody>\n",
       "</table>\n",
       "<p>56379 rows × 22 columns</p>\n",
       "</div>"
      ],
      "text/plain": [
       "               Dur  Proto  SrcAddr  Sport  Dir  DstAddr  Dport  State  sTos  \\\n",
       "18322351  0.189872      3        7   2834    1     1366    752      4   0.0   \n",
       "18322356  0.189283      3        7   7717    1     1366    752      4   0.0   \n",
       "18322408  0.030104      3        8  34660    1     1366    752      4   0.0   \n",
       "18322409  0.000234      3        8  19210    1     1366    752      4   0.0   \n",
       "18322410  0.000239      3        8  26579    1     1366    752      4   0.0   \n",
       "...            ...    ...      ...    ...  ...      ...    ...    ...   ...   \n",
       "19975942  0.000429      3        8  40166    1     1366    752      4   0.0   \n",
       "19975943  0.018334      2        8  26411    2     4234    902     30   0.0   \n",
       "19976516  0.000521      3        8  21426    1     1366    752      4   0.0   \n",
       "19976517  0.000242      3        8  19367    1     1366    752      4   0.0   \n",
       "19976518  0.017897      2        8  26412    2     4234    902     30   0.0   \n",
       "\n",
       "          dTos  ...  SrcBytes  Label  year  month  day  hour  minute  second  \\\n",
       "18322351   0.0  ...        74      1  2011      8   15    18      47      41   \n",
       "18322356   0.0  ...        69      1  2011      8   15    18      47      41   \n",
       "18322408   0.0  ...        82      2  2011      8   15    18      47      41   \n",
       "18322409   0.0  ...        82      2  2011      8   15    18      47      41   \n",
       "18322410   0.0  ...        82      2  2011      8   15    18      47      41   \n",
       "...        ...  ...       ...    ...   ...    ...  ...   ...     ...     ...   \n",
       "19975942   0.0  ...        74      2  2011      8   16     9      35      46   \n",
       "19975943   0.0  ...       272      2  2011      8   16     9      35      46   \n",
       "19976516   0.0  ...        74      2  2011      8   16     9      35      56   \n",
       "19976517   0.0  ...        74      2  2011      8   16     9      35      56   \n",
       "19976518   0.0  ...       272      2  2011      8   16     9      35      56   \n",
       "\n",
       "          dayofweek  is_weekend  \n",
       "18322351          0           0  \n",
       "18322356          0           0  \n",
       "18322408          0           0  \n",
       "18322409          0           0  \n",
       "18322410          0           0  \n",
       "...             ...         ...  \n",
       "19975942          1           0  \n",
       "19975943          1           0  \n",
       "19976516          1           0  \n",
       "19976517          1           0  \n",
       "19976518          1           0  \n",
       "\n",
       "[56379 rows x 22 columns]"
      ]
     },
     "execution_count": 78,
     "metadata": {},
     "output_type": "execute_result"
    }
   ],
   "source": [
    "datasetevaluation"
   ]
  },
  {
   "cell_type": "code",
   "execution_count": 83,
   "metadata": {
    "execution": {
     "iopub.execute_input": "2025-08-16T12:50:08.842973Z",
     "iopub.status.busy": "2025-08-16T12:50:08.842325Z",
     "iopub.status.idle": "2025-08-16T12:50:08.950355Z",
     "shell.execute_reply": "2025-08-16T12:50:08.949622Z",
     "shell.execute_reply.started": "2025-08-16T12:50:08.842950Z"
    },
    "trusted": true
   },
   "outputs": [
    {
     "data": {
      "text/plain": [
       "<torch.utils.data.dataloader.DataLoader at 0x7d05db6400d0>"
      ]
     },
     "execution_count": 83,
     "metadata": {},
     "output_type": "execute_result"
    }
   ],
   "source": [
    "evaldfloader=makedataloadder(datasetevaluation)\n",
    "evaldfloader"
   ]
  },
  {
   "cell_type": "code",
   "execution_count": null,
   "metadata": {
    "execution": {
     "iopub.execute_input": "2025-08-16T13:14:00.087547Z",
     "iopub.status.busy": "2025-08-16T13:14:00.087278Z",
     "iopub.status.idle": "2025-08-16T13:14:00.093400Z",
     "shell.execute_reply": "2025-08-16T13:14:00.092603Z",
     "shell.execute_reply.started": "2025-08-16T13:14:00.087529Z"
    },
    "trusted": true
   },
   "outputs": [],
   "source": [
    "from sklearn.metrics import accuracy_score, classification_report\n",
    "\n",
    "def evaluate(encoder, classifier, dataloader, device):\n",
    "    encoder.eval()\n",
    "    classifier.eval()\n",
    "\n",
    "    all_preds = []\n",
    "    all_labels = []\n",
    "\n",
    "    with torch.no_grad():\n",
    "        for X_batch, y_batch in dataloader:\n",
    "            X_batch, y_batch = X_batch.to(device), y_batch.to(device)\n",
    "\n",
    "\n",
    "            #  classifier outputs\n",
    "            logits = classifier(X_batch)\n",
    "            preds = torch.argmax(logits, dim=1)\n",
    "\n",
    "            all_preds.extend(preds.cpu().numpy())\n",
    "            all_labels.extend(y_batch.cpu().numpy())\n",
    "\n",
    "    acc = accuracy_score(all_labels, all_preds)\n",
    "    report = classification_report(all_labels, all_preds)\n",
    "\n",
    "    print(f\"Accuracy: {acc:.4f}\")\n",
    "    print(\"Classification Report:\\n\", report)\n",
    "\n",
    "    return acc, report\n"
   ]
  },
  {
   "cell_type": "code",
   "execution_count": 85,
   "metadata": {
    "execution": {
     "iopub.execute_input": "2025-08-16T13:14:01.321254Z",
     "iopub.status.busy": "2025-08-16T13:14:01.320389Z",
     "iopub.status.idle": "2025-08-16T13:14:01.839851Z",
     "shell.execute_reply": "2025-08-16T13:14:01.839062Z",
     "shell.execute_reply.started": "2025-08-16T13:14:01.321226Z"
    },
    "trusted": true
   },
   "outputs": [
    {
     "name": "stdout",
     "output_type": "stream",
     "text": [
      "Accuracy: 0.9204\n",
      "Classification Report:\n",
      "               precision    recall  f1-score   support\n",
      "\n",
      "           0       0.88      0.97      0.92     27352\n",
      "           1       0.96      0.88      0.92     29027\n",
      "\n",
      "    accuracy                           0.92     56379\n",
      "   macro avg       0.92      0.92      0.92     56379\n",
      "weighted avg       0.92      0.92      0.92     56379\n",
      "\n"
     ]
    }
   ],
   "source": [
    "acc, report = evaluate(encoder, classifier, evaldfloader, device)\n"
   ]
  },
  {
   "cell_type": "code",
   "execution_count": null,
   "metadata": {
    "trusted": true
   },
   "outputs": [],
   "source": [
    "#make dataset with labeled data\n",
    "#get loss function\n",
    "#finsish triannig loop\n",
    "#evaluation loop"
   ]
  }
 ],
 "metadata": {
  "kaggle": {
   "accelerator": "gpu",
   "dataSources": [
    {
     "datasetId": 3787785,
     "sourceId": 6554875,
     "sourceType": "datasetVersion"
    }
   ],
   "dockerImageVersionId": 31090,
   "isGpuEnabled": true,
   "isInternetEnabled": true,
   "language": "python",
   "sourceType": "notebook"
  },
  "kernelspec": {
   "display_name": "Python 3",
   "language": "python",
   "name": "python3"
  },
  "language_info": {
   "codemirror_mode": {
    "name": "ipython",
    "version": 3
   },
   "file_extension": ".py",
   "mimetype": "text/x-python",
   "name": "python",
   "nbconvert_exporter": "python",
   "pygments_lexer": "ipython3",
   "version": "3.11.13"
  }
 },
 "nbformat": 4,
 "nbformat_minor": 4
}
